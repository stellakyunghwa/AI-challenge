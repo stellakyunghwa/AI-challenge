{
 "cells": [
  {
   "cell_type": "code",
   "execution_count": 79,
   "id": "5601e39b-6c22-47c2-b426-47590c585f7d",
   "metadata": {},
   "outputs": [],
   "source": [
    "### BASIC\n",
    "import pandas as pd\n",
    "import numpy as np\n",
    "import matplotlib.pyplot as plt\n",
    "import warnings\n",
    "warnings.filterwarnings('ignore')\n",
    "from tqdm.auto import tqdm\n",
    "\n",
    "### KERAS\n",
    "from tensorflow import keras\n",
    "from tensorflow.keras import layers\n",
    "import tensorflow as tf\n",
    "\n",
    "from sklearn.experimental import enable_iterative_imputer\n",
    "from sklearn.impute import IterativeImputer"
   ]
  },
  {
   "cell_type": "code",
   "execution_count": 122,
   "id": "1091f35c-29eb-4b10-8a94-9db8cb1892b8",
   "metadata": {},
   "outputs": [],
   "source": [
    "train = pd.read_csv(\"train.csv\")\n",
    "test = pd.read_csv(\"test.csv\")"
   ]
  },
  {
   "cell_type": "code",
   "execution_count": 124,
   "id": "b1bad93b-e578-4da2-b0d6-3402329117e0",
   "metadata": {},
   "outputs": [
    {
     "data": {
      "text/plain": [
       "<AxesSubplot:>"
      ]
     },
     "execution_count": 124,
     "metadata": {},
     "output_type": "execute_result"
    },
    {
     "data": {
      "image/png": "[encoded data removed]",
      "text/plain": [
       "<Figure size 640x480 with 1 Axes>"
      ]
     },
     "metadata": {},
     "output_type": "display_data"
    }
   ],
   "source": [
    "train[\"PIA205B-02A_MIN\"].hist()"
   ]
  },
  {
   "cell_type": "markdown",
   "id": "04ec48fa-bb41-4e47-a478-48e01d28b953",
   "metadata": {},
   "source": [
    "### 전처리"
   ]
  },
  {
   "cell_type": "code",
   "execution_count": 81,
   "id": "18bcfbff-5c20-4593-9066-68d1ba7cbd90",
   "metadata": {},
   "outputs": [],
   "source": [
    "train.loc[train['PRESSURE-S'] < 60, 'PRESSURE-S'] = np.nan\n",
    "test.loc[test['PRESSURE-S'] < 60, 'PRESSURE-S'] = np.nan\n",
    "\n",
    "train.fillna(train['PRESSURE-S'].mean(), inplace = True)\n",
    "test.fillna(train['PRESSURE-S'].mean(), inplace = True)\n",
    "\n",
    "train.drop('datetime', axis = 1, inplace = True)\n",
    "test.drop('datetime', axis = 1, inplace = True)\n",
    "\n",
    "summer = train.loc[(train['lunMonth'] >= 3) & (train['lunMonth'] <= 8)].index\n",
    "other = train.loc[(train['lunMonth'] < 3) | (train['lunMonth'] > 8)].index\n",
    "\n",
    "train.loc[summer, 'lunMonth'] = 1\n",
    "train.loc[other, 'lunMonth'] = 0\n",
    "\n",
    "summer = test.loc[(test['lunMonth'] >= 3) & (test['lunMonth'] <= 8)].index\n",
    "other = test.loc[(test['lunMonth'] < 3) | (test['lunMonth'] > 8)].index\n",
    "\n",
    "test.loc[summer, 'lunMonth'] = 1\n",
    "test.loc[other, 'lunMonth'] = 0\n",
    "\n",
    "train['BOG'] = train['FY_SUM'] + train['FIA_SUM']\n",
    "test['BOG'] = test['FY_SUM'] + test['FIA_SUM']\n",
    "\n",
    "train['new'] = (train['LP_TOTAL'] / train['FY_SUM'] ) - 12\n",
    "train['new1'] = (train['LP_TOTAL'] / train['BOG'] )\n",
    "train['new2'] = (train['FI_SUM'] + train['FY_SUM'] + train['LP_TOTAL']) / train['TI_MEAN']\n",
    "train['new3'] = ((train['PIA205B-02A_MIN'] + train['PIA205B-02A_MAX']) / 2) / (train['기온'] + 273.15) # 샤를의 법칙\n",
    "\n",
    "test['new'] = (test['LP_TOTAL'] / test['FY_SUM'] ) - 12\n",
    "test['new1'] = (test['LP_TOTAL'] / test['BOG'] )\n",
    "test['new2'] = (test['FI_SUM'] + test['FY_SUM'] + test['LP_TOTAL']) / test['TI_MEAN']\n",
    "test['new3'] = ((test['PIA205B-02A_MIN'] + test['PIA205B-02A_MAX']) / 2) / (test['기온'] + 273.15)\n",
    "\n",
    "train.drop(['습도', '풍향','lunDay','lunYear','lunMonth','FIA_SUM', 'FI_SUM', 'FY_SUM','BOG' ], axis = 1, inplace = True) #  \n",
    "test.drop(['습도','풍향','lunDay','lunYear','lunMonth', 'FIA_SUM', 'FI_SUM', 'FY_SUM','BOG'], axis = 1, inplace = True) # "
   ]
  },
  {
   "cell_type": "markdown",
   "id": "58210170-8cc5-449c-8b50-293192840f18",
   "metadata": {},
   "source": [
    "### Regressor Base"
   ]
  },
  {
   "cell_type": "code",
   "execution_count": 4,
   "id": "28b0606d-bf57-473b-b77d-88cc5d9ca5aa",
   "metadata": {},
   "outputs": [],
   "source": [
    "import seaborn as sns\n",
    "from sklearn.preprocessing import PolynomialFeatures"
   ]
  },
  {
   "cell_type": "code",
   "execution_count": 5,
   "id": "5d3ee041-c46b-45b9-9b0d-de1cf29ee5d0",
   "metadata": {},
   "outputs": [],
   "source": [
    "#poly = PolynomialFeatures(degree=3, interaction_only=True, include_bias=True, order='C')"
   ]
  },
  {
   "cell_type": "code",
   "execution_count": 6,
   "id": "1d8e12e4-935b-4e78-834f-5403c194a437",
   "metadata": {},
   "outputs": [],
   "source": [
    "#poly.fit(train)"
   ]
  },
  {
   "cell_type": "code",
   "execution_count": 7,
   "id": "1df360aa-0243-4549-9d4b-0e7c8122ccbe",
   "metadata": {},
   "outputs": [],
   "source": [
    "#train = poly.transform(train)"
   ]
  },
  {
   "cell_type": "code",
   "execution_count": 8,
   "id": "d0714d55-950d-415a-9d7d-eb686ed7c308",
   "metadata": {},
   "outputs": [],
   "source": [
    "#test = poly.transform(test)"
   ]
  },
  {
   "cell_type": "code",
   "execution_count": 9,
   "id": "da251a9c-ab30-41f6-8ce9-8017d66be4c7",
   "metadata": {},
   "outputs": [],
   "source": [
    "#train = pd.DataFrame(train)\n",
    "#test = pd.DataFrame(test)"
   ]
  },
  {
   "cell_type": "code",
   "execution_count": 10,
   "id": "d7e753cc-e6b2-459d-b536-6ab4ffa57b60",
   "metadata": {},
   "outputs": [],
   "source": [
    "#train = train.rename(columns = {1:\"PIA205B-02A_MIN\", 2 : 'PIA205B-02A_MAX'})\n",
    "#test = test.rename(columns = {1:\"PIA205B-02A_MIN\", 2 : 'PIA205B-02A_MAX'})"
   ]
  },
  {
   "cell_type": "code",
   "execution_count": 82,
   "id": "270eca1f-5df9-4219-a1e5-318df31e526f",
   "metadata": {},
   "outputs": [],
   "source": [
    "def train_maker(train) :\n",
    "    train_seq = []\n",
    "    train_y = []\n",
    "\n",
    "    for i in tqdm(range(len(train)-6)) :\n",
    "        temp = train.iloc[i:i+6]\n",
    "        y = train.iloc[i+6]\n",
    "        y = y[['PIA205B-02A_MIN', 'PIA205B-02A_MAX']]\n",
    "              \n",
    "        # 맨 앞시점 버리기\n",
    "        temp = temp.iloc[4:]\n",
    "        train_seq.append(temp)\n",
    "        train_y.append(y)\n",
    "        \n",
    "    return train_seq, train_y\n",
    "\n",
    "def test_maker(test) :\n",
    "    test_seq = []\n",
    "\n",
    "    for i in tqdm(range(0,len(test),6)) :\n",
    "    \n",
    "        temp = test.iloc[i:i+6]\n",
    "    \n",
    "        # 맨 앞시점 버리기\n",
    "        temp = temp.iloc[4:]\n",
    "        test_seq.append(temp)\n",
    "    \n",
    "    return test_seq"
   ]
  },
  {
   "cell_type": "code",
   "execution_count": 83,
   "id": "2284f4c9-a439-4fef-8cac-dcbb9c24bb35",
   "metadata": {},
   "outputs": [
    {
     "data": {
      "application/vnd.jupyter.widget-view+json": {
       "model_id": "5569239ad3ad4958989593533963e52c",
       "version_major": 2,
       "version_minor": 0
      },
      "text/plain": [
       "  0%|          | 0/109722 [00:00<?, ?it/s]"
      ]
     },
     "metadata": {},
     "output_type": "display_data"
    },
    {
     "name": "stdout",
     "output_type": "stream",
     "text": [
      "train_seq shape :  (109722, 2, 12)\n",
      "train_y shape :  (109722, 2)\n"
     ]
    }
   ],
   "source": [
    "train_seq, train_y = train_maker(train)\n",
    "train_seq = np.array(train_seq)\n",
    "train_y = np.array(train_y)\n",
    "print(\"train_seq shape : \", train_seq.shape)\n",
    "print(\"train_y shape : \", train_y.shape)"
   ]
  },
  {
   "cell_type": "code",
   "execution_count": 84,
   "id": "32aa0e80-98e6-4f2f-a2bd-cfdf5b8037e3",
   "metadata": {},
   "outputs": [
    {
     "data": {
      "application/vnd.jupyter.widget-view+json": {
       "model_id": "2684f0264f7240afa5e669be78cff61f",
       "version_major": 2,
       "version_minor": 0
      },
      "text/plain": [
       "  0%|          | 0/5508 [00:00<?, ?it/s]"
      ]
     },
     "metadata": {},
     "output_type": "display_data"
    },
    {
     "name": "stdout",
     "output_type": "stream",
     "text": [
      "test_seq shape :  (5508, 2, 12)\n"
     ]
    }
   ],
   "source": [
    "test_seq = test_maker(test)\n",
    "test_seq = np.array(test_seq)\n",
    "print(\"test_seq shape : \", test_seq.shape)"
   ]
  },
  {
   "cell_type": "markdown",
   "id": "34a02cb9-c954-4657-b247-de5fde6b3f22",
   "metadata": {},
   "source": [
    "### Transformer"
   ]
  },
  {
   "cell_type": "code",
   "execution_count": 89,
   "id": "8e65f45a-6c40-44e6-9e81-e12cb4a5c463",
   "metadata": {},
   "outputs": [],
   "source": [
    "def transformer_encoder(inputs, head_size, num_heads, ff_dim, dropout=0):\n",
    "    # Attention and Normalization\n",
    "    x = layers.MultiHeadAttention(\n",
    "        key_dim=head_size, num_heads=num_heads, dropout=dropout\n",
    "    )(inputs, inputs)\n",
    "    x = layers.Dropout(dropout)(x)\n",
    "    x = layers.LayerNormalization(epsilon=1e-6)(x)\n",
    "    res = x + inputs\n",
    "\n",
    "    # Feed Forward Part\n",
    "    x = layers.Conv1D(filters=ff_dim, kernel_size=1, activation=\"relu\")(res)\n",
    "    x = layers.Dropout(dropout)(x)\n",
    "    x = layers.Conv1D(filters=inputs.shape[-1], kernel_size=1)(x)\n",
    "    x = layers.LayerNormalization(epsilon=1e-6)(x)\n",
    "    return x + res"
   ]
  },
  {
   "cell_type": "code",
   "execution_count": 90,
   "id": "81138a40-531f-4b95-98c3-0c6f68b37d28",
   "metadata": {},
   "outputs": [],
   "source": [
    "tf.keras.backend.clear_session()"
   ]
  },
  {
   "cell_type": "code",
   "execution_count": 91,
   "id": "06ba2e63-b006-42f3-85b4-40e8eb183a8a",
   "metadata": {},
   "outputs": [],
   "source": [
    "def build_model(\n",
    "    input_shape,\n",
    "    head_size,\n",
    "    num_heads,\n",
    "    ff_dim,\n",
    "    num_transformer_blocks,\n",
    "    dropout=0\n",
    "):\n",
    "    # input 레이어 조정\n",
    "    inputs = keras.Input(shape=input_shape)\n",
    "    \n",
    "    seq_last = inputs[:,-1,:]\n",
    "    seq_last = tf.reshape(seq_last, [1,12])\n",
    "    seq_last = layers.RepeatVector(2)(seq_last)\n",
    "    \n",
    "    x = tf.subtract(inputs, seq_last)\n",
    "    x = tf.transpose(x, perm = [0,2,1])\n",
    "    \n",
    "    # transformers\n",
    "    \n",
    "    for _ in range(num_transformer_blocks):\n",
    "        x = transformer_encoder(x, head_size, num_heads, ff_dim, dropout)\n",
    "    \n",
    "    # end\n",
    "    x = tf.transpose(x, perm = [0,2,1])\n",
    "    x = tf.add(x, seq_last)\n",
    "    \n",
    "    # output\n",
    "    outputs = x[:, -1, 1:3]\n",
    "    \n",
    "    return keras.Model(inputs, outputs)"
   ]
  },
  {
   "cell_type": "code",
   "execution_count": 95,
   "id": "5ae6e937-b8b8-4590-840d-776b9a83556c",
   "metadata": {},
   "outputs": [],
   "source": [
    "input_shape = train_seq.shape[1:]\n",
    "\n",
    "model = build_model(\n",
    "    input_shape,\n",
    "    head_size = 512,\n",
    "    num_heads = 4,\n",
    "    ff_dim = 4,\n",
    "    num_transformer_blocks = 1,\n",
    "    dropout = 0.9)"
   ]
  },
  {
   "cell_type": "code",
   "execution_count": 96,
   "id": "50ea51f9-5fe4-45cb-989d-53693bd2ec7b",
   "metadata": {},
   "outputs": [],
   "source": [
    "model.compile(\n",
    "    loss = \"mae\",\n",
    "    optimizer = keras.optimizers.Adam(lr =1e-2),#1e-2),\n",
    "    metrics=[\"mse\"]\n",
    ")"
   ]
  },
  {
   "cell_type": "code",
   "execution_count": 97,
   "id": "a8a17deb-ff8b-4f46-8e7e-b10534193663",
   "metadata": {},
   "outputs": [
    {
     "name": "stdout",
     "output_type": "stream",
     "text": [
      "Model: \"model_1\"\n",
      "__________________________________________________________________________________________________\n",
      " Layer (type)                   Output Shape         Param #     Connected to                     \n",
      "==================================================================================================\n",
      " input_2 (InputLayer)           [(None, 2, 12)]      0           []                               \n",
      "                                                                                                  \n",
      " tf.__operators__.getitem_2 (Sl  (None, 12)          0           ['input_2[0][0]']                \n",
      " icingOpLambda)                                                                                   \n",
      "                                                                                                  \n",
      " tf.reshape_1 (TFOpLambda)      (1, 12)              0           ['tf.__operators__.getitem_2[0][0\n",
      "                                                                 ]']                              \n",
      "                                                                                                  \n",
      " repeat_vector_1 (RepeatVector)  (1, 2, 12)          0           ['tf.reshape_1[0][0]']           \n",
      "                                                                                                  \n",
      " tf.math.subtract_1 (TFOpLambda  (None, 2, 12)       0           ['input_2[0][0]',                \n",
      " )                                                                'repeat_vector_1[0][0]']        \n",
      "                                                                                                  \n",
      " tf.compat.v1.transpose_2 (TFOp  (None, 12, 2)       0           ['tf.math.subtract_1[0][0]']     \n",
      " Lambda)                                                                                          \n",
      "                                                                                                  \n",
      " multi_head_attention_1 (MultiH  (None, 12, 2)       22530       ['tf.compat.v1.transpose_2[0][0]'\n",
      " eadAttention)                                                   , 'tf.compat.v1.transpose_2[0][0]\n",
      "                                                                 ']                               \n",
      "                                                                                                  \n",
      " dropout_2 (Dropout)            (None, 12, 2)        0           ['multi_head_attention_1[0][0]'] \n",
      "                                                                                                  \n",
      " layer_normalization_2 (LayerNo  (None, 12, 2)       4           ['dropout_2[0][0]']              \n",
      " rmalization)                                                                                     \n",
      "                                                                                                  \n",
      " tf.__operators__.add_2 (TFOpLa  (None, 12, 2)       0           ['layer_normalization_2[0][0]',  \n",
      " mbda)                                                            'tf.compat.v1.transpose_2[0][0]'\n",
      "                                                                 ]                                \n",
      "                                                                                                  \n",
      " conv1d_2 (Conv1D)              (None, 12, 4)        12          ['tf.__operators__.add_2[0][0]'] \n",
      "                                                                                                  \n",
      " dropout_3 (Dropout)            (None, 12, 4)        0           ['conv1d_2[0][0]']               \n",
      "                                                                                                  \n",
      " conv1d_3 (Conv1D)              (None, 12, 2)        10          ['dropout_3[0][0]']              \n",
      "                                                                                                  \n",
      " layer_normalization_3 (LayerNo  (None, 12, 2)       4           ['conv1d_3[0][0]']               \n",
      " rmalization)                                                                                     \n",
      "                                                                                                  \n",
      " tf.__operators__.add_3 (TFOpLa  (None, 12, 2)       0           ['layer_normalization_3[0][0]',  \n",
      " mbda)                                                            'tf.__operators__.add_2[0][0]'] \n",
      "                                                                                                  \n",
      " tf.compat.v1.transpose_3 (TFOp  (None, 2, 12)       0           ['tf.__operators__.add_3[0][0]'] \n",
      " Lambda)                                                                                          \n",
      "                                                                                                  \n",
      " tf.math.add_1 (TFOpLambda)     (None, 2, 12)        0           ['tf.compat.v1.transpose_3[0][0]'\n",
      "                                                                 , 'repeat_vector_1[0][0]']       \n",
      "                                                                                                  \n",
      " tf.__operators__.getitem_3 (Sl  (None, 2)           0           ['tf.math.add_1[0][0]']          \n",
      " icingOpLambda)                                                                                   \n",
      "                                                                                                  \n",
      "==================================================================================================\n",
      "Total params: 22,560\n",
      "Trainable params: 22,560\n",
      "Non-trainable params: 0\n",
      "__________________________________________________________________________________________________\n"
     ]
    }
   ],
   "source": [
    "model.summary()"
   ]
  },
  {
   "cell_type": "code",
   "execution_count": 98,
   "id": "4df1a704-5b65-4885-842c-ecbd5ff88a3d",
   "metadata": {},
   "outputs": [],
   "source": [
    "callbacks = [keras.callbacks.EarlyStopping(patience=20, restore_best_weights=True),\n",
    "            keras.callbacks.ModelCheckpoint('NLINEAR_poly__ffkkfKH.h5',monitor = 'val_loss',save_best_only = True,verbose = 1)]"
   ]
  },
  {
   "cell_type": "code",
   "execution_count": 99,
   "id": "7d5803af-d4e7-4767-a3cf-69a1b5274cd4",
   "metadata": {
    "scrolled": true,
    "tags": []
   },
   "outputs": [
    {
     "name": "stdout",
     "output_type": "stream",
     "text": [
      "Epoch 1/200\n",
      "685/686 [============================>.] - ETA: 0s - loss: 0.0523 - mse: 0.0273\n",
      "Epoch 1: val_loss improved from inf to 0.01562, saving model to NLINEAR_poly__ffkkfKH.h5\n",
      "686/686 [==============================] - 6s 6ms/step - loss: 0.0523 - mse: 0.0272 - val_loss: 0.0156 - val_mse: 0.0018\n",
      "Epoch 2/200\n",
      "686/686 [==============================] - ETA: 0s - loss: 0.0193 - mse: 0.0036\n",
      "Epoch 2: val_loss did not improve from 0.01562\n",
      "686/686 [==============================] - 4s 6ms/step - loss: 0.0193 - mse: 0.0036 - val_loss: 0.0163 - val_mse: 0.0018\n",
      "Epoch 3/200\n",
      "683/686 [============================>.] - ETA: 0s - loss: 0.0188 - mse: 0.0027\n",
      "Epoch 3: val_loss did not improve from 0.01562\n",
      "686/686 [==============================] - 4s 6ms/step - loss: 0.0188 - mse: 0.0027 - val_loss: 0.0182 - val_mse: 0.0020\n",
      "Epoch 4/200\n",
      "683/686 [============================>.] - ETA: 0s - loss: 0.0174 - mse: 0.0015\n",
      "Epoch 4: val_loss did not improve from 0.01562\n",
      "686/686 [==============================] - 4s 6ms/step - loss: 0.0174 - mse: 0.0015 - val_loss: 0.0157 - val_mse: 0.0019\n",
      "Epoch 5/200\n",
      "686/686 [==============================] - ETA: 0s - loss: 0.0174 - mse: 0.0014\n",
      "Epoch 5: val_loss did not improve from 0.01562\n",
      "686/686 [==============================] - 4s 6ms/step - loss: 0.0174 - mse: 0.0014 - val_loss: 0.0198 - val_mse: 0.0021\n",
      "Epoch 6/200\n",
      "684/686 [============================>.] - ETA: 0s - loss: 0.0175 - mse: 0.0015\n",
      "Epoch 6: val_loss did not improve from 0.01562\n",
      "686/686 [==============================] - 4s 6ms/step - loss: 0.0175 - mse: 0.0015 - val_loss: 0.0159 - val_mse: 0.0019\n",
      "Epoch 7/200\n",
      "683/686 [============================>.] - ETA: 0s - loss: 0.0174 - mse: 0.0014\n",
      "Epoch 7: val_loss did not improve from 0.01562\n",
      "686/686 [==============================] - 4s 6ms/step - loss: 0.0174 - mse: 0.0014 - val_loss: 0.0159 - val_mse: 0.0019\n",
      "Epoch 8/200\n",
      "677/686 [============================>.] - ETA: 0s - loss: 0.0174 - mse: 0.0014\n",
      "Epoch 8: val_loss did not improve from 0.01562\n",
      "686/686 [==============================] - 4s 6ms/step - loss: 0.0174 - mse: 0.0014 - val_loss: 0.0157 - val_mse: 0.0019\n",
      "Epoch 9/200\n",
      "685/686 [============================>.] - ETA: 0s - loss: 0.0174 - mse: 0.0015\n",
      "Epoch 9: val_loss did not improve from 0.01562\n",
      "686/686 [==============================] - 4s 6ms/step - loss: 0.0174 - mse: 0.0015 - val_loss: 0.0158 - val_mse: 0.0019\n",
      "Epoch 10/200\n",
      "686/686 [==============================] - ETA: 0s - loss: 0.0174 - mse: 0.0014\n",
      "Epoch 10: val_loss improved from 0.01562 to 0.01562, saving model to NLINEAR_poly__ffkkfKH.h5\n",
      "686/686 [==============================] - 4s 6ms/step - loss: 0.0174 - mse: 0.0014 - val_loss: 0.0156 - val_mse: 0.0019\n",
      "Epoch 11/200\n",
      "682/686 [============================>.] - ETA: 0s - loss: 0.0174 - mse: 0.0015\n",
      "Epoch 11: val_loss did not improve from 0.01562\n",
      "686/686 [==============================] - 4s 6ms/step - loss: 0.0174 - mse: 0.0015 - val_loss: 0.0165 - val_mse: 0.0020\n",
      "Epoch 12/200\n",
      "680/686 [============================>.] - ETA: 0s - loss: 0.0174 - mse: 0.0015\n",
      "Epoch 12: val_loss did not improve from 0.01562\n",
      "686/686 [==============================] - 4s 6ms/step - loss: 0.0174 - mse: 0.0014 - val_loss: 0.0159 - val_mse: 0.0019\n",
      "Epoch 13/200\n",
      "679/686 [============================>.] - ETA: 0s - loss: 0.0174 - mse: 0.0014\n",
      "Epoch 13: val_loss did not improve from 0.01562\n",
      "686/686 [==============================] - 4s 6ms/step - loss: 0.0174 - mse: 0.0014 - val_loss: 0.0163 - val_mse: 0.0019\n",
      "Epoch 14/200\n",
      "677/686 [============================>.] - ETA: 0s - loss: 0.0174 - mse: 0.0014\n",
      "Epoch 14: val_loss did not improve from 0.01562\n",
      "686/686 [==============================] - 4s 6ms/step - loss: 0.0174 - mse: 0.0014 - val_loss: 0.0158 - val_mse: 0.0019\n",
      "Epoch 15/200\n",
      "682/686 [============================>.] - ETA: 0s - loss: 0.0174 - mse: 0.0014\n",
      "Epoch 15: val_loss did not improve from 0.01562\n",
      "686/686 [==============================] - 4s 6ms/step - loss: 0.0174 - mse: 0.0014 - val_loss: 0.0164 - val_mse: 0.0020\n",
      "Epoch 16/200\n",
      "682/686 [============================>.] - ETA: 0s - loss: 0.0174 - mse: 0.0014\n",
      "Epoch 16: val_loss did not improve from 0.01562\n",
      "686/686 [==============================] - 4s 6ms/step - loss: 0.0174 - mse: 0.0014 - val_loss: 0.0179 - val_mse: 0.0020\n",
      "Epoch 17/200\n",
      "683/686 [============================>.] - ETA: 0s - loss: 0.0175 - mse: 0.0015\n",
      "Epoch 17: val_loss did not improve from 0.01562\n",
      "686/686 [==============================] - 4s 6ms/step - loss: 0.0175 - mse: 0.0015 - val_loss: 0.0161 - val_mse: 0.0019\n",
      "Epoch 18/200\n",
      "683/686 [============================>.] - ETA: 0s - loss: 0.0174 - mse: 0.0014\n",
      "Epoch 18: val_loss did not improve from 0.01562\n",
      "686/686 [==============================] - 4s 6ms/step - loss: 0.0174 - mse: 0.0014 - val_loss: 0.0158 - val_mse: 0.0019\n",
      "Epoch 19/200\n",
      "597/686 [=========================>....] - ETA: 0s - loss: 0.0174 - mse: 0.0015"
     ]
    },
    {
     "ename": "KeyboardInterrupt",
     "evalue": "",
     "output_type": "error",
     "traceback": [
      "\u001b[0;31m---------------------------------------------------------------------------\u001b[0m",
      "\u001b[0;31mKeyboardInterrupt\u001b[0m                         Traceback (most recent call last)",
      "Input \u001b[0;32mIn [99]\u001b[0m, in \u001b[0;36m<cell line: 1>\u001b[0;34m()\u001b[0m\n\u001b[0;32m----> 1\u001b[0m \u001b[43mmodel\u001b[49m\u001b[38;5;241;43m.\u001b[39;49m\u001b[43mfit\u001b[49m\u001b[43m(\u001b[49m\n\u001b[1;32m      2\u001b[0m \u001b[43m    \u001b[49m\u001b[43mtrain_seq\u001b[49m\u001b[43m,\u001b[49m\n\u001b[1;32m      3\u001b[0m \u001b[43m    \u001b[49m\u001b[43mtrain_y\u001b[49m\u001b[43m,\u001b[49m\n\u001b[1;32m      4\u001b[0m \u001b[43m    \u001b[49m\u001b[43mvalidation_split\u001b[49m\u001b[38;5;241;43m=\u001b[39;49m\u001b[38;5;241;43m0.2\u001b[39;49m\u001b[43m,\u001b[49m\n\u001b[1;32m      5\u001b[0m \u001b[43m    \u001b[49m\u001b[43mepochs\u001b[49m\u001b[38;5;241;43m=\u001b[39;49m\u001b[38;5;241;43m200\u001b[39;49m\u001b[43m,\u001b[49m\n\u001b[1;32m      6\u001b[0m \u001b[43m    \u001b[49m\u001b[43mbatch_size\u001b[49m\u001b[38;5;241;43m=\u001b[39;49m\u001b[38;5;241;43m128\u001b[39;49m\u001b[43m,\u001b[49m\n\u001b[1;32m      7\u001b[0m \u001b[43m    \u001b[49m\u001b[43mshuffle\u001b[49m\u001b[43m \u001b[49m\u001b[38;5;241;43m=\u001b[39;49m\u001b[43m \u001b[49m\u001b[38;5;28;43;01mTrue\u001b[39;49;00m\u001b[43m,\u001b[49m\n\u001b[1;32m      8\u001b[0m \u001b[43m    \u001b[49m\u001b[43mcallbacks\u001b[49m\u001b[38;5;241;43m=\u001b[39;49m\u001b[43mcallbacks\u001b[49m\u001b[43m,\u001b[49m\n\u001b[1;32m      9\u001b[0m \u001b[43m)\u001b[49m\n",
      "File \u001b[0;32m/anaconda/envs/py38_default/lib/python3.8/site-packages/keras/utils/traceback_utils.py:65\u001b[0m, in \u001b[0;36mfilter_traceback.<locals>.error_handler\u001b[0;34m(*args, **kwargs)\u001b[0m\n\u001b[1;32m     63\u001b[0m filtered_tb \u001b[38;5;241m=\u001b[39m \u001b[38;5;28;01mNone\u001b[39;00m\n\u001b[1;32m     64\u001b[0m \u001b[38;5;28;01mtry\u001b[39;00m:\n\u001b[0;32m---> 65\u001b[0m     \u001b[38;5;28;01mreturn\u001b[39;00m \u001b[43mfn\u001b[49m\u001b[43m(\u001b[49m\u001b[38;5;241;43m*\u001b[39;49m\u001b[43margs\u001b[49m\u001b[43m,\u001b[49m\u001b[43m \u001b[49m\u001b[38;5;241;43m*\u001b[39;49m\u001b[38;5;241;43m*\u001b[39;49m\u001b[43mkwargs\u001b[49m\u001b[43m)\u001b[49m\n\u001b[1;32m     66\u001b[0m \u001b[38;5;28;01mexcept\u001b[39;00m \u001b[38;5;167;01mException\u001b[39;00m \u001b[38;5;28;01mas\u001b[39;00m e:\n\u001b[1;32m     67\u001b[0m     filtered_tb \u001b[38;5;241m=\u001b[39m _process_traceback_frames(e\u001b[38;5;241m.\u001b[39m__traceback__)\n",
      "File \u001b[0;32m/anaconda/envs/py38_default/lib/python3.8/site-packages/keras/engine/training.py:1570\u001b[0m, in \u001b[0;36mModel.fit\u001b[0;34m(self, x, y, batch_size, epochs, verbose, callbacks, validation_split, validation_data, shuffle, class_weight, sample_weight, initial_epoch, steps_per_epoch, validation_steps, validation_batch_size, validation_freq, max_queue_size, workers, use_multiprocessing)\u001b[0m\n\u001b[1;32m   1568\u001b[0m logs \u001b[38;5;241m=\u001b[39m tmp_logs\n\u001b[1;32m   1569\u001b[0m end_step \u001b[38;5;241m=\u001b[39m step \u001b[38;5;241m+\u001b[39m data_handler\u001b[38;5;241m.\u001b[39mstep_increment\n\u001b[0;32m-> 1570\u001b[0m \u001b[43mcallbacks\u001b[49m\u001b[38;5;241;43m.\u001b[39;49m\u001b[43mon_train_batch_end\u001b[49m\u001b[43m(\u001b[49m\u001b[43mend_step\u001b[49m\u001b[43m,\u001b[49m\u001b[43m \u001b[49m\u001b[43mlogs\u001b[49m\u001b[43m)\u001b[49m\n\u001b[1;32m   1571\u001b[0m \u001b[38;5;28;01mif\u001b[39;00m \u001b[38;5;28mself\u001b[39m\u001b[38;5;241m.\u001b[39mstop_training:\n\u001b[1;32m   1572\u001b[0m     \u001b[38;5;28;01mbreak\u001b[39;00m\n",
      "File \u001b[0;32m/anaconda/envs/py38_default/lib/python3.8/site-packages/keras/callbacks.py:470\u001b[0m, in \u001b[0;36mCallbackList.on_train_batch_end\u001b[0;34m(self, batch, logs)\u001b[0m\n\u001b[1;32m    463\u001b[0m \u001b[38;5;124;03m\"\"\"Calls the `on_train_batch_end` methods of its callbacks.\u001b[39;00m\n\u001b[1;32m    464\u001b[0m \n\u001b[1;32m    465\u001b[0m \u001b[38;5;124;03mArgs:\u001b[39;00m\n\u001b[1;32m    466\u001b[0m \u001b[38;5;124;03m    batch: Integer, index of batch within the current epoch.\u001b[39;00m\n\u001b[1;32m    467\u001b[0m \u001b[38;5;124;03m    logs: Dict. Aggregated metric results up until this batch.\u001b[39;00m\n\u001b[1;32m    468\u001b[0m \u001b[38;5;124;03m\"\"\"\u001b[39;00m\n\u001b[1;32m    469\u001b[0m \u001b[38;5;28;01mif\u001b[39;00m \u001b[38;5;28mself\u001b[39m\u001b[38;5;241m.\u001b[39m_should_call_train_batch_hooks:\n\u001b[0;32m--> 470\u001b[0m     \u001b[38;5;28;43mself\u001b[39;49m\u001b[38;5;241;43m.\u001b[39;49m\u001b[43m_call_batch_hook\u001b[49m\u001b[43m(\u001b[49m\u001b[43mModeKeys\u001b[49m\u001b[38;5;241;43m.\u001b[39;49m\u001b[43mTRAIN\u001b[49m\u001b[43m,\u001b[49m\u001b[43m \u001b[49m\u001b[38;5;124;43m\"\u001b[39;49m\u001b[38;5;124;43mend\u001b[39;49m\u001b[38;5;124;43m\"\u001b[39;49m\u001b[43m,\u001b[49m\u001b[43m \u001b[49m\u001b[43mbatch\u001b[49m\u001b[43m,\u001b[49m\u001b[43m \u001b[49m\u001b[43mlogs\u001b[49m\u001b[38;5;241;43m=\u001b[39;49m\u001b[43mlogs\u001b[49m\u001b[43m)\u001b[49m\n",
      "File \u001b[0;32m/anaconda/envs/py38_default/lib/python3.8/site-packages/keras/callbacks.py:317\u001b[0m, in \u001b[0;36mCallbackList._call_batch_hook\u001b[0;34m(self, mode, hook, batch, logs)\u001b[0m\n\u001b[1;32m    315\u001b[0m     \u001b[38;5;28mself\u001b[39m\u001b[38;5;241m.\u001b[39m_call_batch_begin_hook(mode, batch, logs)\n\u001b[1;32m    316\u001b[0m \u001b[38;5;28;01melif\u001b[39;00m hook \u001b[38;5;241m==\u001b[39m \u001b[38;5;124m\"\u001b[39m\u001b[38;5;124mend\u001b[39m\u001b[38;5;124m\"\u001b[39m:\n\u001b[0;32m--> 317\u001b[0m     \u001b[38;5;28;43mself\u001b[39;49m\u001b[38;5;241;43m.\u001b[39;49m\u001b[43m_call_batch_end_hook\u001b[49m\u001b[43m(\u001b[49m\u001b[43mmode\u001b[49m\u001b[43m,\u001b[49m\u001b[43m \u001b[49m\u001b[43mbatch\u001b[49m\u001b[43m,\u001b[49m\u001b[43m \u001b[49m\u001b[43mlogs\u001b[49m\u001b[43m)\u001b[49m\n\u001b[1;32m    318\u001b[0m \u001b[38;5;28;01melse\u001b[39;00m:\n\u001b[1;32m    319\u001b[0m     \u001b[38;5;28;01mraise\u001b[39;00m \u001b[38;5;167;01mValueError\u001b[39;00m(\n\u001b[1;32m    320\u001b[0m         \u001b[38;5;124mf\u001b[39m\u001b[38;5;124m\"\u001b[39m\u001b[38;5;124mUnrecognized hook: \u001b[39m\u001b[38;5;132;01m{\u001b[39;00mhook\u001b[38;5;132;01m}\u001b[39;00m\u001b[38;5;124m. \u001b[39m\u001b[38;5;124m\"\u001b[39m\n\u001b[1;32m    321\u001b[0m         \u001b[38;5;124m'\u001b[39m\u001b[38;5;124mExpected values are [\u001b[39m\u001b[38;5;124m\"\u001b[39m\u001b[38;5;124mbegin\u001b[39m\u001b[38;5;124m\"\u001b[39m\u001b[38;5;124m, \u001b[39m\u001b[38;5;124m\"\u001b[39m\u001b[38;5;124mend\u001b[39m\u001b[38;5;124m\"\u001b[39m\u001b[38;5;124m]\u001b[39m\u001b[38;5;124m'\u001b[39m\n\u001b[1;32m    322\u001b[0m     )\n",
      "File \u001b[0;32m/anaconda/envs/py38_default/lib/python3.8/site-packages/keras/callbacks.py:340\u001b[0m, in \u001b[0;36mCallbackList._call_batch_end_hook\u001b[0;34m(self, mode, batch, logs)\u001b[0m\n\u001b[1;32m    337\u001b[0m     batch_time \u001b[38;5;241m=\u001b[39m time\u001b[38;5;241m.\u001b[39mtime() \u001b[38;5;241m-\u001b[39m \u001b[38;5;28mself\u001b[39m\u001b[38;5;241m.\u001b[39m_batch_start_time\n\u001b[1;32m    338\u001b[0m     \u001b[38;5;28mself\u001b[39m\u001b[38;5;241m.\u001b[39m_batch_times\u001b[38;5;241m.\u001b[39mappend(batch_time)\n\u001b[0;32m--> 340\u001b[0m \u001b[38;5;28;43mself\u001b[39;49m\u001b[38;5;241;43m.\u001b[39;49m\u001b[43m_call_batch_hook_helper\u001b[49m\u001b[43m(\u001b[49m\u001b[43mhook_name\u001b[49m\u001b[43m,\u001b[49m\u001b[43m \u001b[49m\u001b[43mbatch\u001b[49m\u001b[43m,\u001b[49m\u001b[43m \u001b[49m\u001b[43mlogs\u001b[49m\u001b[43m)\u001b[49m\n\u001b[1;32m    342\u001b[0m \u001b[38;5;28;01mif\u001b[39;00m \u001b[38;5;28mlen\u001b[39m(\u001b[38;5;28mself\u001b[39m\u001b[38;5;241m.\u001b[39m_batch_times) \u001b[38;5;241m>\u001b[39m\u001b[38;5;241m=\u001b[39m \u001b[38;5;28mself\u001b[39m\u001b[38;5;241m.\u001b[39m_num_batches_for_timing_check:\n\u001b[1;32m    343\u001b[0m     end_hook_name \u001b[38;5;241m=\u001b[39m hook_name\n",
      "File \u001b[0;32m/anaconda/envs/py38_default/lib/python3.8/site-packages/keras/callbacks.py:388\u001b[0m, in \u001b[0;36mCallbackList._call_batch_hook_helper\u001b[0;34m(self, hook_name, batch, logs)\u001b[0m\n\u001b[1;32m    386\u001b[0m \u001b[38;5;28;01mfor\u001b[39;00m callback \u001b[38;5;129;01min\u001b[39;00m \u001b[38;5;28mself\u001b[39m\u001b[38;5;241m.\u001b[39mcallbacks:\n\u001b[1;32m    387\u001b[0m     hook \u001b[38;5;241m=\u001b[39m \u001b[38;5;28mgetattr\u001b[39m(callback, hook_name)\n\u001b[0;32m--> 388\u001b[0m     \u001b[43mhook\u001b[49m\u001b[43m(\u001b[49m\u001b[43mbatch\u001b[49m\u001b[43m,\u001b[49m\u001b[43m \u001b[49m\u001b[43mlogs\u001b[49m\u001b[43m)\u001b[49m\n\u001b[1;32m    390\u001b[0m \u001b[38;5;28;01mif\u001b[39;00m \u001b[38;5;28mself\u001b[39m\u001b[38;5;241m.\u001b[39m_check_timing:\n\u001b[1;32m    391\u001b[0m     \u001b[38;5;28;01mif\u001b[39;00m hook_name \u001b[38;5;129;01mnot\u001b[39;00m \u001b[38;5;129;01min\u001b[39;00m \u001b[38;5;28mself\u001b[39m\u001b[38;5;241m.\u001b[39m_hook_times:\n",
      "File \u001b[0;32m/anaconda/envs/py38_default/lib/python3.8/site-packages/keras/callbacks.py:1081\u001b[0m, in \u001b[0;36mProgbarLogger.on_train_batch_end\u001b[0;34m(self, batch, logs)\u001b[0m\n\u001b[1;32m   1080\u001b[0m \u001b[38;5;28;01mdef\u001b[39;00m \u001b[38;5;21mon_train_batch_end\u001b[39m(\u001b[38;5;28mself\u001b[39m, batch, logs\u001b[38;5;241m=\u001b[39m\u001b[38;5;28;01mNone\u001b[39;00m):\n\u001b[0;32m-> 1081\u001b[0m     \u001b[38;5;28;43mself\u001b[39;49m\u001b[38;5;241;43m.\u001b[39;49m\u001b[43m_batch_update_progbar\u001b[49m\u001b[43m(\u001b[49m\u001b[43mbatch\u001b[49m\u001b[43m,\u001b[49m\u001b[43m \u001b[49m\u001b[43mlogs\u001b[49m\u001b[43m)\u001b[49m\n",
      "File \u001b[0;32m/anaconda/envs/py38_default/lib/python3.8/site-packages/keras/callbacks.py:1143\u001b[0m, in \u001b[0;36mProgbarLogger._batch_update_progbar\u001b[0;34m(self, batch, logs)\u001b[0m\n\u001b[1;32m   1141\u001b[0m \u001b[38;5;124;03m\"\"\"Updates the progbar.\"\"\"\u001b[39;00m\n\u001b[1;32m   1142\u001b[0m logs \u001b[38;5;241m=\u001b[39m logs \u001b[38;5;129;01mor\u001b[39;00m {}\n\u001b[0;32m-> 1143\u001b[0m \u001b[38;5;28;43mself\u001b[39;49m\u001b[38;5;241;43m.\u001b[39;49m\u001b[43m_maybe_init_progbar\u001b[49m\u001b[43m(\u001b[49m\u001b[43m)\u001b[49m\n\u001b[1;32m   1144\u001b[0m \u001b[38;5;28;01mif\u001b[39;00m \u001b[38;5;28mself\u001b[39m\u001b[38;5;241m.\u001b[39muse_steps:\n\u001b[1;32m   1145\u001b[0m     \u001b[38;5;28mself\u001b[39m\u001b[38;5;241m.\u001b[39mseen \u001b[38;5;241m=\u001b[39m batch \u001b[38;5;241m+\u001b[39m \u001b[38;5;241m1\u001b[39m  \u001b[38;5;66;03m# One-indexed.\u001b[39;00m\n",
      "File \u001b[0;32m/anaconda/envs/py38_default/lib/python3.8/site-packages/keras/callbacks.py:1118\u001b[0m, in \u001b[0;36mProgbarLogger._maybe_init_progbar\u001b[0;34m(self)\u001b[0m\n\u001b[1;32m   1111\u001b[0m \u001b[38;5;28mself\u001b[39m\u001b[38;5;241m.\u001b[39mstateful_metrics \u001b[38;5;241m=\u001b[39m \u001b[38;5;28mset\u001b[39m(\u001b[38;5;28mself\u001b[39m\u001b[38;5;241m.\u001b[39mstateful_metrics)\n\u001b[1;32m   1113\u001b[0m \u001b[38;5;28;01mif\u001b[39;00m \u001b[38;5;28mself\u001b[39m\u001b[38;5;241m.\u001b[39mmodel:\n\u001b[1;32m   1114\u001b[0m     \u001b[38;5;66;03m# Update the existing stateful metrics as `self.model.metrics` may\u001b[39;00m\n\u001b[1;32m   1115\u001b[0m     \u001b[38;5;66;03m# contain updated metrics after `MetricsContainer` is built in the\u001b[39;00m\n\u001b[1;32m   1116\u001b[0m     \u001b[38;5;66;03m# first train step.\u001b[39;00m\n\u001b[1;32m   1117\u001b[0m     \u001b[38;5;28mself\u001b[39m\u001b[38;5;241m.\u001b[39mstateful_metrics \u001b[38;5;241m=\u001b[39m \u001b[38;5;28mself\u001b[39m\u001b[38;5;241m.\u001b[39mstateful_metrics\u001b[38;5;241m.\u001b[39munion(\n\u001b[0;32m-> 1118\u001b[0m         \u001b[38;5;28mset\u001b[39m(m\u001b[38;5;241m.\u001b[39mname \u001b[38;5;28;01mfor\u001b[39;00m m \u001b[38;5;129;01min\u001b[39;00m \u001b[38;5;28;43mself\u001b[39;49m\u001b[38;5;241;43m.\u001b[39;49m\u001b[43mmodel\u001b[49m\u001b[38;5;241;43m.\u001b[39;49m\u001b[43mmetrics\u001b[49m)\n\u001b[1;32m   1119\u001b[0m     )\n\u001b[1;32m   1121\u001b[0m \u001b[38;5;28;01mif\u001b[39;00m \u001b[38;5;28mself\u001b[39m\u001b[38;5;241m.\u001b[39mprogbar \u001b[38;5;129;01mis\u001b[39;00m \u001b[38;5;28;01mNone\u001b[39;00m:\n\u001b[1;32m   1122\u001b[0m     \u001b[38;5;28mself\u001b[39m\u001b[38;5;241m.\u001b[39mprogbar \u001b[38;5;241m=\u001b[39m Progbar(\n\u001b[1;32m   1123\u001b[0m         target\u001b[38;5;241m=\u001b[39m\u001b[38;5;28mself\u001b[39m\u001b[38;5;241m.\u001b[39mtarget,\n\u001b[1;32m   1124\u001b[0m         verbose\u001b[38;5;241m=\u001b[39m\u001b[38;5;28mself\u001b[39m\u001b[38;5;241m.\u001b[39mverbose,\n\u001b[1;32m   1125\u001b[0m         stateful_metrics\u001b[38;5;241m=\u001b[39m\u001b[38;5;28mself\u001b[39m\u001b[38;5;241m.\u001b[39mstateful_metrics,\n\u001b[1;32m   1126\u001b[0m         unit_name\u001b[38;5;241m=\u001b[39m\u001b[38;5;124m\"\u001b[39m\u001b[38;5;124mstep\u001b[39m\u001b[38;5;124m\"\u001b[39m \u001b[38;5;28;01mif\u001b[39;00m \u001b[38;5;28mself\u001b[39m\u001b[38;5;241m.\u001b[39muse_steps \u001b[38;5;28;01melse\u001b[39;00m \u001b[38;5;124m\"\u001b[39m\u001b[38;5;124msample\u001b[39m\u001b[38;5;124m\"\u001b[39m,\n\u001b[1;32m   1127\u001b[0m     )\n",
      "File \u001b[0;32m/anaconda/envs/py38_default/lib/python3.8/site-packages/keras/engine/training.py:838\u001b[0m, in \u001b[0;36mModel.metrics\u001b[0;34m(self)\u001b[0m\n\u001b[1;32m    835\u001b[0m     \u001b[38;5;28;01mif\u001b[39;00m \u001b[38;5;28mself\u001b[39m\u001b[38;5;241m.\u001b[39mcompiled_metrics \u001b[38;5;129;01mis\u001b[39;00m \u001b[38;5;129;01mnot\u001b[39;00m \u001b[38;5;28;01mNone\u001b[39;00m:\n\u001b[1;32m    836\u001b[0m         metrics \u001b[38;5;241m+\u001b[39m\u001b[38;5;241m=\u001b[39m \u001b[38;5;28mself\u001b[39m\u001b[38;5;241m.\u001b[39mcompiled_metrics\u001b[38;5;241m.\u001b[39mmetrics\n\u001b[0;32m--> 838\u001b[0m \u001b[38;5;28;01mfor\u001b[39;00m l \u001b[38;5;129;01min\u001b[39;00m \u001b[38;5;28mself\u001b[39m\u001b[38;5;241m.\u001b[39m_flatten_layers():\n\u001b[1;32m    839\u001b[0m     metrics\u001b[38;5;241m.\u001b[39mextend(l\u001b[38;5;241m.\u001b[39m_metrics)\n\u001b[1;32m    840\u001b[0m \u001b[38;5;28;01mreturn\u001b[39;00m metrics\n",
      "File \u001b[0;32m/anaconda/envs/py38_default/lib/python3.8/site-packages/keras/engine/base_layer.py:3172\u001b[0m, in \u001b[0;36mLayer._flatten_layers\u001b[0;34m(self, recursive, include_self)\u001b[0m\n\u001b[1;32m   3171\u001b[0m \u001b[38;5;28;01mdef\u001b[39;00m \u001b[38;5;21m_flatten_layers\u001b[39m(\u001b[38;5;28mself\u001b[39m, recursive\u001b[38;5;241m=\u001b[39m\u001b[38;5;28;01mTrue\u001b[39;00m, include_self\u001b[38;5;241m=\u001b[39m\u001b[38;5;28;01mTrue\u001b[39;00m):\n\u001b[0;32m-> 3172\u001b[0m     \u001b[38;5;28;01mfor\u001b[39;00m m \u001b[38;5;129;01min\u001b[39;00m \u001b[38;5;28mself\u001b[39m\u001b[38;5;241m.\u001b[39m_flatten_modules(\n\u001b[1;32m   3173\u001b[0m         recursive\u001b[38;5;241m=\u001b[39mrecursive, include_self\u001b[38;5;241m=\u001b[39minclude_self\n\u001b[1;32m   3174\u001b[0m     ):\n\u001b[1;32m   3175\u001b[0m         \u001b[38;5;28;01mif\u001b[39;00m \u001b[38;5;28misinstance\u001b[39m(m, Layer):\n\u001b[1;32m   3176\u001b[0m             \u001b[38;5;28;01myield\u001b[39;00m m\n",
      "File \u001b[0;32m/anaconda/envs/py38_default/lib/python3.8/site-packages/keras/engine/base_layer.py:3214\u001b[0m, in \u001b[0;36mLayer._flatten_modules\u001b[0;34m(self, recursive, include_self)\u001b[0m\n\u001b[1;32m   3210\u001b[0m         subtrackables \u001b[38;5;241m=\u001b[39m \u001b[38;5;28mgetattr\u001b[39m(\n\u001b[1;32m   3211\u001b[0m             trackable_obj, \u001b[38;5;124m\"\u001b[39m\u001b[38;5;124m_self_tracked_trackables\u001b[39m\u001b[38;5;124m\"\u001b[39m, \u001b[38;5;28;01mNone\u001b[39;00m\n\u001b[1;32m   3212\u001b[0m         )\n\u001b[1;32m   3213\u001b[0m         \u001b[38;5;28;01mif\u001b[39;00m subtrackables:\n\u001b[0;32m-> 3214\u001b[0m             deque\u001b[38;5;241m.\u001b[39mextendleft(\u001b[38;5;28;43mreversed\u001b[39;49m\u001b[43m(\u001b[49m\u001b[43msubtrackables\u001b[49m\u001b[43m)\u001b[49m)\n\u001b[1;32m   3215\u001b[0m \u001b[38;5;28;01melif\u001b[39;00m \u001b[38;5;28misinstance\u001b[39m(\n\u001b[1;32m   3216\u001b[0m     trackable_obj,\n\u001b[1;32m   3217\u001b[0m     tf\u001b[38;5;241m.\u001b[39m__internal__\u001b[38;5;241m.\u001b[39mtracking\u001b[38;5;241m.\u001b[39mTrackableDataStructure,\n\u001b[1;32m   3218\u001b[0m ):\n\u001b[1;32m   3219\u001b[0m     \u001b[38;5;66;03m# Data structures are introspected even with\u001b[39;00m\n\u001b[1;32m   3220\u001b[0m     \u001b[38;5;66;03m# `recursive=False`.\u001b[39;00m\n\u001b[1;32m   3221\u001b[0m     tracked_values \u001b[38;5;241m=\u001b[39m trackable_obj\u001b[38;5;241m.\u001b[39m_values\n",
      "\u001b[0;31mKeyboardInterrupt\u001b[0m: "
     ]
    }
   ],
   "source": [
    "model.fit(\n",
    "    train_seq,\n",
    "    train_y,\n",
    "    validation_split=0.2,\n",
    "    epochs=200,\n",
    "    batch_size=128,\n",
    "    shuffle = True,\n",
    "    callbacks=callbacks,\n",
    ")"
   ]
  },
  {
   "cell_type": "code",
   "execution_count": 100,
   "id": "861a02a7-47a3-4803-af9a-19bd36b008e3",
   "metadata": {},
   "outputs": [
    {
     "name": "stdout",
     "output_type": "stream",
     "text": [
      "173/173 [==============================] - 1s 2ms/step\n"
     ]
    }
   ],
   "source": [
    "predict = model.predict(test_seq)"
   ]
  },
  {
   "cell_type": "code",
   "execution_count": 101,
   "id": "cf31eefe-b80e-44e3-8518-08e211a2adea",
   "metadata": {},
   "outputs": [
    {
     "data": {
      "text/html": [
       "<div>\n",
       "<style scoped>\n",
       "    .dataframe tbody tr th:only-of-type {\n",
       "        vertical-align: middle;\n",
       "    }\n",
       "\n",
       "    .dataframe tbody tr th {\n",
       "        vertical-align: top;\n",
       "    }\n",
       "\n",
       "    .dataframe thead th {\n",
       "        text-align: right;\n",
       "    }\n",
       "</style>\n",
       "<table border=\"1\" class=\"dataframe\">\n",
       "  <thead>\n",
       "    <tr style=\"text-align: right;\">\n",
       "      <th></th>\n",
       "      <th>Unnamed: 0</th>\n",
       "      <th>TIME</th>\n",
       "      <th>PIA205B-02A_MIN</th>\n",
       "      <th>PIA205B-02A_MAX</th>\n",
       "    </tr>\n",
       "  </thead>\n",
       "  <tbody>\n",
       "    <tr>\n",
       "      <th>0</th>\n",
       "      <td>0</td>\n",
       "      <td>2021-03-01 01:00:00</td>\n",
       "      <td>18.072001</td>\n",
       "      <td>18.111599</td>\n",
       "    </tr>\n",
       "    <tr>\n",
       "      <th>1</th>\n",
       "      <td>1</td>\n",
       "      <td>2021-03-01 02:20:00</td>\n",
       "      <td>17.516500</td>\n",
       "      <td>17.595900</td>\n",
       "    </tr>\n",
       "    <tr>\n",
       "      <th>2</th>\n",
       "      <td>2</td>\n",
       "      <td>2021-03-01 03:40:00</td>\n",
       "      <td>16.808502</td>\n",
       "      <td>17.089300</td>\n",
       "    </tr>\n",
       "    <tr>\n",
       "      <th>3</th>\n",
       "      <td>3</td>\n",
       "      <td>2021-03-01 05:00:00</td>\n",
       "      <td>16.500299</td>\n",
       "      <td>16.607100</td>\n",
       "    </tr>\n",
       "    <tr>\n",
       "      <th>4</th>\n",
       "      <td>4</td>\n",
       "      <td>2021-03-01 06:20:00</td>\n",
       "      <td>16.677299</td>\n",
       "      <td>16.820700</td>\n",
       "    </tr>\n",
       "    <tr>\n",
       "      <th>...</th>\n",
       "      <td>...</td>\n",
       "      <td>...</td>\n",
       "      <td>...</td>\n",
       "      <td>...</td>\n",
       "    </tr>\n",
       "    <tr>\n",
       "      <th>5503</th>\n",
       "      <td>5503</td>\n",
       "      <td>2021-12-31 18:20:00</td>\n",
       "      <td>17.959099</td>\n",
       "      <td>18.001801</td>\n",
       "    </tr>\n",
       "    <tr>\n",
       "      <th>5504</th>\n",
       "      <td>5504</td>\n",
       "      <td>2021-12-31 19:40:00</td>\n",
       "      <td>17.888899</td>\n",
       "      <td>17.937700</td>\n",
       "    </tr>\n",
       "    <tr>\n",
       "      <th>5505</th>\n",
       "      <td>5505</td>\n",
       "      <td>2021-12-31 21:00:00</td>\n",
       "      <td>17.876699</td>\n",
       "      <td>17.913300</td>\n",
       "    </tr>\n",
       "    <tr>\n",
       "      <th>5506</th>\n",
       "      <td>5506</td>\n",
       "      <td>2021-12-31 22:20:00</td>\n",
       "      <td>17.809500</td>\n",
       "      <td>17.843100</td>\n",
       "    </tr>\n",
       "    <tr>\n",
       "      <th>5507</th>\n",
       "      <td>5507</td>\n",
       "      <td>2021-12-31 23:40:00</td>\n",
       "      <td>17.769800</td>\n",
       "      <td>17.809500</td>\n",
       "    </tr>\n",
       "  </tbody>\n",
       "</table>\n",
       "<p>5508 rows × 4 columns</p>\n",
       "</div>"
      ],
      "text/plain": [
       "      Unnamed: 0                 TIME  PIA205B-02A_MIN  PIA205B-02A_MAX\n",
       "0              0  2021-03-01 01:00:00        18.072001        18.111599\n",
       "1              1  2021-03-01 02:20:00        17.516500        17.595900\n",
       "2              2  2021-03-01 03:40:00        16.808502        17.089300\n",
       "3              3  2021-03-01 05:00:00        16.500299        16.607100\n",
       "4              4  2021-03-01 06:20:00        16.677299        16.820700\n",
       "...          ...                  ...              ...              ...\n",
       "5503        5503  2021-12-31 18:20:00        17.959099        18.001801\n",
       "5504        5504  2021-12-31 19:40:00        17.888899        17.937700\n",
       "5505        5505  2021-12-31 21:00:00        17.876699        17.913300\n",
       "5506        5506  2021-12-31 22:20:00        17.809500        17.843100\n",
       "5507        5507  2021-12-31 23:40:00        17.769800        17.809500\n",
       "\n",
       "[5508 rows x 4 columns]"
      ]
     },
     "execution_count": 101,
     "metadata": {},
     "output_type": "execute_result"
    }
   ],
   "source": [
    "submission_sample = pd.read_csv(\"/home/kogas/KH/submission.csv\")\n",
    "submission_sample['PIA205B-02A_MIN'] = predict[:,0]\n",
    "submission_sample['PIA205B-02A_MAX'] = predict[:,1]\n",
    "submission_sample"
   ]
  },
  {
   "cell_type": "code",
   "execution_count": 102,
   "id": "540db03e-0f02-4367-b659-09910d2bf610",
   "metadata": {},
   "outputs": [
    {
     "data": {
      "text/plain": [
       "<AxesSubplot:>"
      ]
     },
     "execution_count": 102,
     "metadata": {},
     "output_type": "execute_result"
    },
    {
     "data": {
      "image/png": "[encoded data removed]",
      "text/plain": [
       "<Figure size 640x480 with 1 Axes>"
      ]
     },
     "metadata": {},
     "output_type": "display_data"
    }
   ],
   "source": [
    "submission_sample[\"PIA205B-02A_MIN\"].plot()"
   ]
  },
  {
   "cell_type": "code",
   "execution_count": 103,
   "id": "cc3caf42-a8f2-4680-8e83-1866efa49647",
   "metadata": {},
   "outputs": [],
   "source": [
    "submission_sample.to_csv('NLINEAR_poly_KH__FFFF_1.csv', index = False)"
   ]
  },
  {
   "cell_type": "code",
   "execution_count": 125,
   "id": "339a0079-0796-41e3-af2e-22210591e2af",
   "metadata": {},
   "outputs": [],
   "source": [
    "final_rf = pd.read_csv(\"final_rf.csv\")"
   ]
  },
  {
   "cell_type": "code",
   "execution_count": 113,
   "id": "3f188677-b60b-4853-9c8b-d119a60f6fc2",
   "metadata": {},
   "outputs": [],
   "source": [
    "poly = pd.read_csv(\"NLINEAR_poly_KH_1.csv\")"
   ]
  },
  {
   "cell_type": "code",
   "execution_count": 133,
   "id": "6da18ab8-2510-4eca-86fb-ea50b10cd1ec",
   "metadata": {},
   "outputs": [],
   "source": [
    "final_rf['PIA205B-02A_MIN'] = final_rf['PIA205B-02A_MIN'].apply(lambda x : x * 0.95 if x >= 22 else x)\n",
    "final_rf['PIA205B-02A_MAX'] = final_rf['PIA205B-02A_MAX'].apply(lambda x : x * 0.95 if x >= 22 else x)"
   ]
  },
  {
   "cell_type": "code",
   "execution_count": 134,
   "id": "fed881d1-1ff7-49de-b68d-602e4a2ab018",
   "metadata": {},
   "outputs": [],
   "source": [
    "final_rf.to_csv(\"0.95fsdafas.csv\")"
   ]
  },
  {
   "cell_type": "code",
   "execution_count": 115,
   "id": "e7c9c67d-7c04-49ef-8ab1-f8801a81fabf",
   "metadata": {},
   "outputs": [
    {
     "data": {
      "text/html": [
       "<div>\n",
       "<style scoped>\n",
       "    .dataframe tbody tr th:only-of-type {\n",
       "        vertical-align: middle;\n",
       "    }\n",
       "\n",
       "    .dataframe tbody tr th {\n",
       "        vertical-align: top;\n",
       "    }\n",
       "\n",
       "    .dataframe thead th {\n",
       "        text-align: right;\n",
       "    }\n",
       "</style>\n",
       "<table border=\"1\" class=\"dataframe\">\n",
       "  <thead>\n",
       "    <tr style=\"text-align: right;\">\n",
       "      <th></th>\n",
       "      <th>Unnamed: 0</th>\n",
       "      <th>TIME</th>\n",
       "      <th>PIA205B-02A_MIN</th>\n",
       "      <th>PIA205B-02A_MAX</th>\n",
       "    </tr>\n",
       "  </thead>\n",
       "  <tbody>\n",
       "    <tr>\n",
       "      <th>0</th>\n",
       "      <td>0</td>\n",
       "      <td>2021-03-01 01:00:00</td>\n",
       "      <td>18.054504</td>\n",
       "      <td>18.094139</td>\n",
       "    </tr>\n",
       "    <tr>\n",
       "      <th>1</th>\n",
       "      <td>1</td>\n",
       "      <td>2021-03-01 02:20:00</td>\n",
       "      <td>17.456055</td>\n",
       "      <td>17.525817</td>\n",
       "    </tr>\n",
       "    <tr>\n",
       "      <th>2</th>\n",
       "      <td>2</td>\n",
       "      <td>2021-03-01 03:40:00</td>\n",
       "      <td>16.758600</td>\n",
       "      <td>16.926626</td>\n",
       "    </tr>\n",
       "    <tr>\n",
       "      <th>3</th>\n",
       "      <td>3</td>\n",
       "      <td>2021-03-01 05:00:00</td>\n",
       "      <td>16.552207</td>\n",
       "      <td>16.649201</td>\n",
       "    </tr>\n",
       "    <tr>\n",
       "      <th>4</th>\n",
       "      <td>4</td>\n",
       "      <td>2021-03-01 06:20:00</td>\n",
       "      <td>16.745736</td>\n",
       "      <td>16.833116</td>\n",
       "    </tr>\n",
       "    <tr>\n",
       "      <th>...</th>\n",
       "      <td>...</td>\n",
       "      <td>...</td>\n",
       "      <td>...</td>\n",
       "      <td>...</td>\n",
       "    </tr>\n",
       "    <tr>\n",
       "      <th>5503</th>\n",
       "      <td>5503</td>\n",
       "      <td>2021-12-31 18:20:00</td>\n",
       "      <td>17.963943</td>\n",
       "      <td>18.001904</td>\n",
       "    </tr>\n",
       "    <tr>\n",
       "      <th>5504</th>\n",
       "      <td>5504</td>\n",
       "      <td>2021-12-31 19:40:00</td>\n",
       "      <td>17.871828</td>\n",
       "      <td>17.919569</td>\n",
       "    </tr>\n",
       "    <tr>\n",
       "      <th>5505</th>\n",
       "      <td>5505</td>\n",
       "      <td>2021-12-31 21:00:00</td>\n",
       "      <td>17.872609</td>\n",
       "      <td>17.910463</td>\n",
       "    </tr>\n",
       "    <tr>\n",
       "      <th>5506</th>\n",
       "      <td>5506</td>\n",
       "      <td>2021-12-31 22:20:00</td>\n",
       "      <td>17.803286</td>\n",
       "      <td>17.835676</td>\n",
       "    </tr>\n",
       "    <tr>\n",
       "      <th>5507</th>\n",
       "      <td>5507</td>\n",
       "      <td>2021-12-31 23:40:00</td>\n",
       "      <td>17.754180</td>\n",
       "      <td>17.796903</td>\n",
       "    </tr>\n",
       "  </tbody>\n",
       "</table>\n",
       "<p>5508 rows × 4 columns</p>\n",
       "</div>"
      ],
      "text/plain": [
       "      Unnamed: 0                 TIME  PIA205B-02A_MIN  PIA205B-02A_MAX\n",
       "0              0  2021-03-01 01:00:00        18.054504        18.094139\n",
       "1              1  2021-03-01 02:20:00        17.456055        17.525817\n",
       "2              2  2021-03-01 03:40:00        16.758600        16.926626\n",
       "3              3  2021-03-01 05:00:00        16.552207        16.649201\n",
       "4              4  2021-03-01 06:20:00        16.745736        16.833116\n",
       "...          ...                  ...              ...              ...\n",
       "5503        5503  2021-12-31 18:20:00        17.963943        18.001904\n",
       "5504        5504  2021-12-31 19:40:00        17.871828        17.919569\n",
       "5505        5505  2021-12-31 21:00:00        17.872609        17.910463\n",
       "5506        5506  2021-12-31 22:20:00        17.803286        17.835676\n",
       "5507        5507  2021-12-31 23:40:00        17.754180        17.796903\n",
       "\n",
       "[5508 rows x 4 columns]"
      ]
     },
     "execution_count": 115,
     "metadata": {},
     "output_type": "execute_result"
    }
   ],
   "source": [
    "submission_sample = pd.read_csv(\"/home/kogas/KH/submission.csv\")\n",
    "submission_sample['PIA205B-02A_MIN'] = final_rf[\"PIA205B-02A_MIN\"] * 0.8 + poly[\"PIA205B-02A_MIN\"] * 0.2\n",
    "submission_sample['PIA205B-02A_MAX'] = final_rf[\"PIA205B-02A_MAX\"] * 0.8 + poly[\"PIA205B-02A_MAX\"] * 0.2\n",
    "submission_sample"
   ]
  },
  {
   "cell_type": "code",
   "execution_count": 116,
   "id": "d28a150b-eff2-492d-aed4-ec41e08ba5ff",
   "metadata": {},
   "outputs": [],
   "source": [
    "submission_sample.to_csv('BLD_FINAL.csv', index = False)"
   ]
  }
 ],
 "metadata": {
  "kernelspec": {
   "display_name": "display-name",
   "language": "python",
   "name": "yourenvname"
  },
  "language_info": {
   "codemirror_mode": {
    "name": "ipython",
    "version": 3
   },
   "file_extension": ".py",
   "mimetype": "text/x-python",
   "name": "python",
   "nbconvert_exporter": "python",
   "pygments_lexer": "ipython3",
   "version": "3.8.13"
  }
 },
 "nbformat": 4,
 "nbformat_minor": 5
}
