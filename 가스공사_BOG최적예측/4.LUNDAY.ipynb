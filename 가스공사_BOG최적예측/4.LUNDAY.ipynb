{
 "cells": [
  {
   "cell_type": "code",
   "execution_count": null,
   "id": "b960c6ad-0eac-4b07-b01c-f80948333c19",
   "metadata": {},
   "outputs": [],
   "source": [
    "from urllib.request import urlopen\n",
    "from urllib.request import Request \n",
    "from urllib.parse import urlencode, quote_plus\n",
    "\n",
    "import urllib.request as ul\n",
    "import xmltodict\n",
    "import json\n",
    "import sys\n",
    "import io\n",
    "import pandas as pd\n",
    "import requests"
   ]
  },
  {
   "cell_type": "code",
   "execution_count": null,
   "id": "3bcdaa4d-b999-4647-b24d-b59da1fa9eb5",
   "metadata": {},
   "outputs": [],
   "source": [
    "start = pd.to_datetime('20190101')\n",
    "end = pd.to_datetime('20211231') \n",
    "df = pd.DataFrame(columns=['date'])\n",
    "df['date'] = pd.date_range(start,end,freq='D')\n",
    "\n",
    "df['Year'] = df['date'].dt.year \n",
    "df['Month'] = df['date'].dt.month \n",
    "df['Day'] = df['date'].dt.day\n",
    "\n",
    "df"
   ]
  },
  {
   "cell_type": "code",
   "execution_count": null,
   "id": "63c26fcf-0aad-4391-b4e5-e0d3b3df0312",
   "metadata": {},
   "outputs": [],
   "source": [
    "### 월,일의 한자리(ex. 1,2,3...) 앞에 0붙여야함\n",
    "def convert_month(df):\n",
    "    for i in range(len(df)):\n",
    "        month = df['Month'].iloc[i]\n",
    "        if int(month) < 10:\n",
    "            month = \"0\"+str(month)\n",
    "            df['Month'].iloc[i] = month\n",
    "            \n",
    "def convert_day(df):\n",
    "    for i in range(len(df)):\n",
    "        day = df['Day'].iloc[i]\n",
    "        if int(day) < 10:\n",
    "            day = \"0\"+str(day)\n",
    "            df['Day'].iloc[i] = day    "
   ]
  },
  {
   "cell_type": "code",
   "execution_count": null,
   "id": "5509bc98-0a83-4593-a1ec-f47de23f3b53",
   "metadata": {},
   "outputs": [],
   "source": [
    "convert_month(df)\n",
    "convert_day(df)\n",
    "df"
   ]
  },
  {
   "cell_type": "code",
   "execution_count": null,
   "id": "60802839-86dd-4bce-865a-38eea4dc2d2d",
   "metadata": {},
   "outputs": [],
   "source": [
    "data = pd.DataFrame()\n",
    "\n",
    "\n",
    "for i in range(len(df)):\n",
    "    \n",
    "    Year = df['Year'].iloc[i]\n",
    "    Month = df['Month'].iloc[i]\n",
    "    Day = df['Day'].iloc[i]\n",
    "               \n",
    "    url = f'http://apis.data.go.kr/B090041/openapi/service/LrsrCldInfoService/getLunCalInfo?solYear={str(Year)}&solMonth={str(Month)}&solDay={str(Day)}&ServiceKey=AxBfFuEFOVLgxDBmZp6dpCO4c65YGB8YLwhc4BA30Kzaqy17bgoM6cMfNak7ru6WtUxNZVNG%2FGlvgRmF7jxKwQ%3D%3D'\n",
    "    requestd = Request(url)\n",
    "    requestd.get_method = lambda: 'GET'\n",
    "    response_body = urlopen(requestd).read()\n",
    "    resp = xmltodict.parse(response_body)\n",
    "    resp_dic = json.loads(json.dumps(resp))\n",
    "    print(resp_dic)\n",
    "    #print(i)\n",
    "\n",
    "    data = data.append(resp_dic['response']['body']['items']['item'],ignore_index=True)\n",
    "\n",
    "print(\"********end********\")"
   ]
  },
  {
   "cell_type": "code",
   "execution_count": null,
   "id": "04445e4f-8dc9-4d53-8db5-632a733745b3",
   "metadata": {},
   "outputs": [],
   "source": [
    "data"
   ]
  },
  {
   "cell_type": "code",
   "execution_count": null,
   "id": "91f79a4d-f56f-4219-89a4-d0f5d78f600b",
   "metadata": {},
   "outputs": [],
   "source": [
    "data.to_csv(\"../DATA/lunday.csv\", index = False)"
   ]
  }
 ],
 "metadata": {
  "kernelspec": {
   "display_name": "Python 3 (ipykernel)",
   "language": "python",
   "name": "python3"
  },
  "language_info": {
   "codemirror_mode": {
    "name": "ipython",
    "version": 3
   },
   "file_extension": ".py",
   "mimetype": "text/x-python",
   "name": "python",
   "nbconvert_exporter": "python",
   "pygments_lexer": "ipython3",
   "version": "3.8.13"
  }
 },
 "nbformat": 4,
 "nbformat_minor": 5
}
