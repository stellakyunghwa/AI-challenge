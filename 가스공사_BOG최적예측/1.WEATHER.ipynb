{
 "cells": [
  {
   "cell_type": "markdown",
   "id": "a2f2cfe0-301b-481b-801b-2354be8ebcf6",
   "metadata": {},
   "source": [
    "### 패키지"
   ]
  },
  {
   "cell_type": "code",
   "execution_count": 2,
   "id": "8cac20e1-ae7f-4df3-b6b9-58c59730bced",
   "metadata": {},
   "outputs": [],
   "source": [
    "# base\n",
    "import pandas as pd\n",
    "import numpy as np\n",
    "import matplotlib.pyplot as plt\n",
    "import re\n",
    "\n",
    "# path\n",
    "from glob import glob\n",
    "\n",
    "# warning\n",
    "import warnings\n",
    "warnings.filterwarnings('ignore')"
   ]
  },
  {
   "cell_type": "markdown",
   "id": "eea562d2-4d50-4b45-bb0b-72d00e07dc1c",
   "metadata": {},
   "source": [
    "### 데이터 오류검사"
   ]
  },
  {
   "cell_type": "code",
   "execution_count": 2,
   "id": "35657a5d-1382-4382-98c2-c95bede2dfcb",
   "metadata": {},
   "outputs": [],
   "source": [
    "### 오류검사 함수\n",
    "def ErrorFinder(data_path) :\n",
    "    path_list = sorted(glob(data_path+'/*.csv'))\n",
    "    path_list\n",
    "\n",
    "    data_list = []\n",
    "    for path in path_list :\n",
    "        try :\n",
    "            temp_data = pd.read_csv(path, encoding = 'cp949')\n",
    "            print(\"정상\", end = \" \")\n",
    "        except :\n",
    "            print('ERROR')\n",
    "            print(path)"
   ]
  },
  {
   "cell_type": "markdown",
   "id": "0f853779-7c61-4a0e-8bba-f34b64669fce",
   "metadata": {},
   "source": [
    "### 검사"
   ]
  },
  {
   "cell_type": "code",
   "execution_count": 3,
   "id": "21552c26-f960-4ead-b9ae-288ed3e6b2b0",
   "metadata": {},
   "outputs": [
    {
     "name": "stdout",
     "output_type": "stream",
     "text": [
      "정상 정상 정상 정상 정상 정상 정상 정상 정상 정상 정상 정상 정상 정상 "
     ]
    }
   ],
   "source": [
    "ErrorFinder(\"../DATA/WEATHER/2021_신예보\")"
   ]
  },
  {
   "cell_type": "code",
   "execution_count": 4,
   "id": "d0601ecc-1d2b-43f0-85ba-41e51fa967c2",
   "metadata": {},
   "outputs": [
    {
     "name": "stdout",
     "output_type": "stream",
     "text": [
      "정상 정상 정상 정상 정상 정상 정상 정상 정상 정상 정상 정상 "
     ]
    }
   ],
   "source": [
    "ErrorFinder(\"../DATA/WEATHER/2021_구예보\")"
   ]
  },
  {
   "cell_type": "code",
   "execution_count": 5,
   "id": "bf7e431c-7cd8-438b-bb21-00ae0ca1a638",
   "metadata": {},
   "outputs": [
    {
     "name": "stdout",
     "output_type": "stream",
     "text": [
      "정상 정상 정상 정상 정상 정상 정상 정상 정상 정상 정상 정상 "
     ]
    }
   ],
   "source": [
    "ErrorFinder(\"../DATA/WEATHER/2020\")"
   ]
  },
  {
   "cell_type": "code",
   "execution_count": 6,
   "id": "d4032c0f-cfe8-446f-8503-11a7693a6363",
   "metadata": {},
   "outputs": [
    {
     "name": "stdout",
     "output_type": "stream",
     "text": [
      "정상 정상 정상 정상 정상 정상 정상 정상 정상 정상 정상 정상 "
     ]
    }
   ],
   "source": [
    "ErrorFinder(\"../DATA/WEATHER/2018\")"
   ]
  },
  {
   "cell_type": "code",
   "execution_count": 7,
   "id": "47d95210-fc6f-4ac1-9f84-58aeb7e005dd",
   "metadata": {},
   "outputs": [
    {
     "name": "stdout",
     "output_type": "stream",
     "text": [
      "정상 정상 정상 정상 정상 정상 정상 정상 정상 정상 정상 정상 "
     ]
    }
   ],
   "source": [
    "ErrorFinder(\"../DATA/WEATHER/2019\")"
   ]
  },
  {
   "cell_type": "code",
   "execution_count": 8,
   "id": "681a873e-9eac-40d3-87df-08ed093c36a5",
   "metadata": {},
   "outputs": [
    {
     "name": "stdout",
     "output_type": "stream",
     "text": [
      "정상 정상 정상 정상 정상 정상 정상 정상 정상 정상 정상 정상 "
     ]
    }
   ],
   "source": [
    "ErrorFinder(\"../DATA/WEATHER/2021_6월구예보\")"
   ]
  },
  {
   "cell_type": "markdown",
   "id": "433e03aa-62ee-434d-a92a-8926f1f3f923",
   "metadata": {},
   "source": [
    "### 전처리"
   ]
  },
  {
   "cell_type": "markdown",
   "id": "e6286c21-4f55-474e-8152-04f51b0c4a41",
   "metadata": {},
   "source": [
    "##### 구예보 Standard function"
   ]
  },
  {
   "cell_type": "code",
   "execution_count": 57,
   "id": "bd5bfeb7-375a-4887-b231-81c40a383436",
   "metadata": {},
   "outputs": [],
   "source": [
    "### 구예보 데이터\n",
    "def clean_old_forecast(data_path, value_name) :\n",
    "    data = pd.read_csv(data_path)\n",
    "    temp_zero = pd.DataFrame(data.columns).T\n",
    "    temp_zero.columns = data.columns\n",
    "    data = pd.concat([temp_zero,data],axis = 0)\n",
    "    data.reset_index(drop = True, inplace = True)\n",
    "\n",
    "    data[\"len\"] = data[' format: day'].apply(lambda x : len(str(x)))\n",
    "    split_index = data[data[\"len\"] > 8].index\n",
    "    split_index = list(split_index)\n",
    "    split_index.append(len(data))\n",
    "\n",
    "    data_list = []\n",
    "    for i in range(len(split_index)-1) :\n",
    "        temp = data.iloc[split_index[i]:split_index[i+1],:]\n",
    "        temp.reset_index(drop = True, inplace = True)\n",
    "        temp.columns = list(temp.iloc[0])\n",
    "        temp.drop(0,axis = 0)\n",
    "        temp.columns = ['day','hour','forecast','value','len']\n",
    "        data_list.append(temp)\n",
    "\n",
    "    start_index = data_list[0].iloc[0,3].find(\"S\")\n",
    "    data_list[0].iloc[0,0] = data_list[0].iloc[0,3][start_index:]\n",
    "    data_list[0].iloc[0,1:] = np.nan\n",
    "\n",
    "    new_data_list = []\n",
    "    numbers_list = []\n",
    "    \n",
    "    for i in range(12) :\n",
    "        try :# 12월까지 추출, 이후 중복\n",
    "            string = data_list[i].iloc[0,0]\n",
    "            numbers = re.sub(r'[^0-9]', '', string)\n",
    "            numbers = int(numbers)\n",
    "            numbers_list.append(numbers-1)\n",
    "            temp = data_list[i].iloc[1:,:]\n",
    "            temp.reset_index(drop = True, inplace = True)\n",
    "            new_data_list.append(temp)\n",
    "        except :\n",
    "            pass\n",
    "\n",
    "    for i in range(len(numbers_list)) :\n",
    "        new_data_list[i][\"day\"] = numbers_list[i] + new_data_list[i][\"day\"].astype(int)\n",
    "\n",
    "    new_data = pd.concat(new_data_list)\n",
    "    new_data.reset_index(drop = True, inplace = True)\n",
    "\n",
    "    new_data.rename(columns = {\"value\" : value_name},inplace = True)\n",
    "    new_data  = new_data.drop(columns = \"len\")\n",
    "    \n",
    "    new_data[\"hour\"] = new_data[\"hour\"].astype(int)\n",
    "    new_data[\"hour\"] = new_data[\"hour\"]/100\n",
    "    \n",
    "    new_data[\"day\"] = new_data[\"day\"].astype(str).apply(lambda x : x[0:4] + \"-\" +x[4:6] + \"-\" + x[6:8])\n",
    "    new_data[\"hour\"] = new_data[\"hour\"].astype(int)\n",
    "    \n",
    "    new_data[\"hour\"] = new_data[\"hour\"].apply(lambda x : \"0\" + str(x) if (x < 10) else str(x))\n",
    "    \n",
    "    new_data[\"datetime\"] = new_data[\"day\"] + \" \" + new_data[\"hour\"] + \":\" + \"00\" + \":\" + \"00\"\n",
    "    new_data[\"datetime\"] = pd.to_datetime(new_data[\"datetime\"])\n",
    "    new_data.drop(columns = [\"day\",\"hour\"],inplace = True)\n",
    "    \n",
    "    try :\n",
    "        new_data[\"forecast\"] = new_data[\"forecast\"].apply(lambda x : x.strip(\"+\"))\n",
    "    except :\n",
    "        pass\n",
    "    \n",
    "    \n",
    "    new_data[\"forecast\"] = new_data[\"forecast\"].astype(int)\n",
    "    \n",
    "    new_data[\"forecast_time\"] = new_data[\"datetime\"]\n",
    "    \n",
    "    new_data[\"forecast_time\"] = new_data[\"datetime\"] + pd.to_timedelta(new_data[\"forecast\"], unit = \"H\") + pd.to_timedelta(9, unit=\"H\")\n",
    "    \n",
    "    new_data[\"forecast_time\"] = pd.to_datetime(new_data[\"forecast_time\"])\n",
    "    new_data[\"forecast\"] = new_data[\"forecast\"].astype(int)\n",
    "    new_data[\"datetime\"] = pd.to_datetime(new_data[\"datetime\"])\n",
    "    \n",
    "    return new_data\n",
    "\n",
    "### 구예보 병합\n",
    "def old_concat(path) :\n",
    "    dir = glob(path + \"/*.csv\")\n",
    "    name = [i.split(\"/\")[4].split(\"_\")[1] for i in dir]\n",
    "    old_weather = []\n",
    "    for i in range(len(name)) :\n",
    "        try :\n",
    "            temp = clean_old_forecast(dir[i], name[i])\n",
    "            old_weather.append(temp)\n",
    "        except :\n",
    "            print(dir[i])\n",
    "        \n",
    "    for i in range(1,len(old_weather)) :\n",
    "        old_weather[0] = old_weather[0].merge(old_weather[i], how = \"left\", on = [\"datetime\",\"forecast\",\"forecast_time\"])\n",
    "\n",
    "    return old_weather[0]"
   ]
  },
  {
   "cell_type": "markdown",
   "id": "69f55fef-36c7-45fd-a9ed-0100567bb360",
   "metadata": {},
   "source": [
    "##### 신예보 function"
   ]
  },
  {
   "cell_type": "code",
   "execution_count": 59,
   "id": "1e87ee56-a926-46cd-b4ec-1ef5faf3cc69",
   "metadata": {},
   "outputs": [],
   "source": [
    "def preprocessing(wind_data_path):  \n",
    "    \n",
    "    path_list = sorted(glob(wind_data_path+'/*.csv'))\n",
    "    path_list\n",
    "    \n",
    "    #데이터 불러오기\n",
    "    data_year_precipitation = pd.read_csv(path_list[0])\n",
    "    data_year_temperature = pd.read_csv(path_list[1])\n",
    "    data_year_snow = pd.read_csv(path_list[2])\n",
    "    data_year_precipitationform = pd.read_csv(path_list[3])\n",
    "    data_year_precipitationprob = pd.read_csv(path_list[4])    \n",
    "    data_year_humidity = pd.read_csv(path_list[7])\n",
    "    data_year_windspeed = pd.read_csv(path_list[11])\n",
    "    data_year_winddirection = pd.read_csv(path_list[12])\n",
    "    data_year_cloud = pd.read_csv(path_list[13])\n",
    "\n",
    "    # 데이터 결합 (3시간)\n",
    "    data_year = data_year_precipitation[[' format: day', 'hour', 'forecast']]\n",
    "    data_year['precipitation'] = data_year_precipitation[data_year_precipitation.columns[-1]] #1시간강수량 \n",
    "    data_year['temperature'] = data_year_temperature[data_year_temperature.columns[-1]] # 1시간 기온\n",
    "    data_year['snow'] = data_year_snow[data_year_snow.columns[-1]] #1시간적설\n",
    "    data_year['precipitationform'] = data_year_precipitationform[data_year_precipitationform.columns[-1]] #강수확률\n",
    "    data_year['precipitationprob'] = data_year_precipitationprob[data_year_precipitationprob.columns[-1]] #강수형태\n",
    "    data_year['humidity'] = data_year_humidity[data_year_humidity.columns[-1]] #습도\n",
    "    data_year['windspeed'] = data_year_windspeed[data_year_windspeed.columns[-1]] #풍속  \n",
    "    data_year['winddirection'] = data_year_winddirection[data_year_winddirection.columns[-1]] #풍향\n",
    "    data_year['cloud'] = data_year_cloud[data_year_cloud.columns[-1]] #하늘상태\n",
    "     \n",
    "    # 일 구분 행 추출 \n",
    "    day_rows = [-1]\n",
    "    day_rows.extend(data_year[data_year['hour'].isna()].index)\n",
    "    day_rows.append(data_year.shape[0]+1)\n",
    "    \n",
    "    \n",
    "    # 일별 데이터 분리\n",
    "    day_data = []\n",
    "    for i in range(len(day_rows)-1):\n",
    "        day_data.append(data_year.loc[day_rows[i]+1:day_rows[i+1]-1])    \n",
    "       \n",
    "    # 연월일 데이타  (첫째줄에서 첫째연월일데이타 가져오고, hour가 빈행에서 나머지 연월일 데이타 가져오기)   \n",
    "    day_idx=[]\n",
    "    first_day = data_year_precipitation.columns.to_list()[3].split(\"Start : \")[1] # 첫째줄 연월일 데이타 \n",
    "    day_info = [first_day] \n",
    "    day_idx.extend(data_year[data_year['hour'].isna()].index)  \n",
    "    for i in day_idx:\n",
    "        day_info.append(data_year.loc[i][0].split(\" Start : \")[1])    \n",
    "     \n",
    "    # 연월일 데이타를 date 행으로 만들고 데이타 합쳐서 dataframe만들기 \n",
    "    df=None\n",
    "    date_list=[]\n",
    "    for i in range(len(day_data)):\n",
    "        day_data[i]['date'] = day_info[i]\n",
    "        df = pd.concat([df, day_data[i]],axis=0)  \n",
    "    df['date'] = df['date'].str[:4] +  '-' + df['date'].str[4:6] + '-' + df['date'].str[6:8] + \" \" + (df['hour'].astype(int)//100).astype(str) + ':00'\n",
    "    df['forecast_time'] = pd.to_datetime(df['date']) + pd.DateOffset(hours=9)    \n",
    "    df = df.drop([' format: day','hour'], axis=1)\n",
    "\n",
    "    def to_date(x):\n",
    "        return pd.DateOffset(hours=x)\n",
    "    df['datetime']= df['forecast_time'] + df['forecast'].map(to_date)  \n",
    "    return df\n",
    "\n",
    "# 예보시간 14시만 뺌 \n",
    "def make_forecast(df):\n",
    "    df = df[(df['forecast'] == 6.0) | (df['forecast'] == 7.0) | (df['forecast'] == 8.0)]\n",
    "    df = df.drop(['date', 'forecast_time', 'forecast'],axis=1) \n",
    "    df= df.reset_index(drop=True)\n",
    "    return df"
   ]
  },
  {
   "cell_type": "markdown",
   "id": "b0fdc304-958f-4e63-b511-552397d89cae",
   "metadata": {},
   "source": [
    "### 데이터 불러오기"
   ]
  },
  {
   "cell_type": "code",
   "execution_count": 80,
   "id": "c129549a-bdb5-49e7-a00b-2ddc5c2ddc54",
   "metadata": {},
   "outputs": [],
   "source": [
    "### LOAD DATA\n",
    "old_2018 = old_concat(\"../DATA/WEATHER/2018\")\n",
    "old_2019 = old_concat(\"../DATA/WEATHER/2019\")\n",
    "old_2020 = old_concat(\"../DATA/WEATHER/2020\")\n",
    "old_2021 = old_concat(\"../DATA/WEATHER/2021_구예보\")\n",
    "\n",
    "new_2021 = make_forecast(preprocessing(\"../DATA/WEATHER/2021_신예보\"))"
   ]
  },
  {
   "cell_type": "code",
   "execution_count": 81,
   "id": "bdf2f604-b2c6-440d-b840-9670c4e62480",
   "metadata": {},
   "outputs": [],
   "source": [
    "old_2018 = old_2018[old_2018[\"forecast\"] == 4]\n",
    "old_2019 = old_2019[old_2019[\"forecast\"] == 4]\n",
    "old_2020 = old_2020[old_2020[\"forecast\"] == 4]\n",
    "old_2021 = old_2021[old_2021[\"forecast\"] == 4]"
   ]
  },
  {
   "cell_type": "code",
   "execution_count": 82,
   "id": "713e9417-a610-4a91-9f4b-ce9fe4d326f0",
   "metadata": {},
   "outputs": [],
   "source": [
    "### 시점 고정\n",
    "old_2018.drop(columns = [\"datetime\", \"forecast\"], inplace = True)\n",
    "old_2018.rename(columns = {\"forecast_time\" : \"datetime\"}, inplace = True)\n",
    "\n",
    "old_2019.drop(columns = [\"datetime\", \"forecast\"], inplace = True)\n",
    "old_2019.rename(columns = {\"forecast_time\" : \"datetime\"}, inplace = True)\n",
    "\n",
    "old_2020.drop(columns = [\"datetime\", \"forecast\"], inplace = True)\n",
    "old_2020.rename(columns = {\"forecast_time\" : \"datetime\"}, inplace = True)\n",
    "\n",
    "old_2021.drop(columns = [\"datetime\", \"forecast\"], inplace = True)\n",
    "old_2021.rename(columns = {\"forecast_time\" : \"datetime\"}, inplace = True)"
   ]
  },
  {
   "cell_type": "code",
   "execution_count": 83,
   "id": "1d634caf-6031-464f-8f8a-5d3cf55b3f72",
   "metadata": {},
   "outputs": [],
   "source": [
    "old_weather = pd.concat([old_2018,old_2019,old_2020,old_2021])\n",
    "old_weather = old_weather[['datetime', '3시간기온', '습도', '풍향']]\n",
    "old_weather.rename(columns = {\"3시간기온\" : \"기온\"}, inplace = True)"
   ]
  },
  {
   "cell_type": "code",
   "execution_count": 84,
   "id": "309749a3-801c-422c-ba83-7555fe329fb3",
   "metadata": {},
   "outputs": [],
   "source": [
    "old_df= pd.DataFrame(columns=['datetime'])\n",
    "old_df['datetime'] = pd.date_range(start='2019-01-01 00:00:00', end='2021-06-30 08:00:00', freq='H')\n",
    "old_weather = pd.merge(old_df,old_weather, on ='datetime', how='outer')\n",
    "old_weather['기온'] = old_weather['기온'].astype('float').interpolate()\n",
    "old_weather['습도'] = old_weather['습도'].astype('float').interpolate()\n",
    "old_weather['풍향'] = old_weather['풍향'].astype('float').interpolate()"
   ]
  },
  {
   "cell_type": "code",
   "execution_count": 85,
   "id": "1b1f3ed7-6bd4-44e1-8815-06847dd6cce0",
   "metadata": {},
   "outputs": [
    {
     "data": {
      "text/html": [
       "<div>\n",
       "<style scoped>\n",
       "    .dataframe tbody tr th:only-of-type {\n",
       "        vertical-align: middle;\n",
       "    }\n",
       "\n",
       "    .dataframe tbody tr th {\n",
       "        vertical-align: top;\n",
       "    }\n",
       "\n",
       "    .dataframe thead th {\n",
       "        text-align: right;\n",
       "    }\n",
       "</style>\n",
       "<table border=\"1\" class=\"dataframe\">\n",
       "  <thead>\n",
       "    <tr style=\"text-align: right;\">\n",
       "      <th></th>\n",
       "      <th>datetime</th>\n",
       "      <th>기온</th>\n",
       "      <th>습도</th>\n",
       "      <th>풍향</th>\n",
       "    </tr>\n",
       "  </thead>\n",
       "  <tbody>\n",
       "    <tr>\n",
       "      <th>1</th>\n",
       "      <td>2019-01-01 01:00:00</td>\n",
       "      <td>-2.000000</td>\n",
       "      <td>35.000000</td>\n",
       "      <td>286.000000</td>\n",
       "    </tr>\n",
       "    <tr>\n",
       "      <th>2</th>\n",
       "      <td>2019-01-01 02:00:00</td>\n",
       "      <td>-3.000000</td>\n",
       "      <td>35.000000</td>\n",
       "      <td>288.000000</td>\n",
       "    </tr>\n",
       "    <tr>\n",
       "      <th>3</th>\n",
       "      <td>2019-01-01 03:00:00</td>\n",
       "      <td>-4.000000</td>\n",
       "      <td>35.000000</td>\n",
       "      <td>290.000000</td>\n",
       "    </tr>\n",
       "    <tr>\n",
       "      <th>4</th>\n",
       "      <td>2019-01-01 04:00:00</td>\n",
       "      <td>-4.000000</td>\n",
       "      <td>36.666667</td>\n",
       "      <td>282.666667</td>\n",
       "    </tr>\n",
       "    <tr>\n",
       "      <th>5</th>\n",
       "      <td>2019-01-01 05:00:00</td>\n",
       "      <td>-4.000000</td>\n",
       "      <td>38.333333</td>\n",
       "      <td>275.333333</td>\n",
       "    </tr>\n",
       "    <tr>\n",
       "      <th>...</th>\n",
       "      <td>...</td>\n",
       "      <td>...</td>\n",
       "      <td>...</td>\n",
       "      <td>...</td>\n",
       "    </tr>\n",
       "    <tr>\n",
       "      <th>21867</th>\n",
       "      <td>2021-06-30 03:00:00</td>\n",
       "      <td>19.000000</td>\n",
       "      <td>95.000000</td>\n",
       "      <td>202.000000</td>\n",
       "    </tr>\n",
       "    <tr>\n",
       "      <th>21868</th>\n",
       "      <td>2021-06-30 04:00:00</td>\n",
       "      <td>19.333333</td>\n",
       "      <td>95.000000</td>\n",
       "      <td>204.000000</td>\n",
       "    </tr>\n",
       "    <tr>\n",
       "      <th>21869</th>\n",
       "      <td>2021-06-30 05:00:00</td>\n",
       "      <td>19.666667</td>\n",
       "      <td>95.000000</td>\n",
       "      <td>206.000000</td>\n",
       "    </tr>\n",
       "    <tr>\n",
       "      <th>21870</th>\n",
       "      <td>2021-06-30 06:00:00</td>\n",
       "      <td>20.000000</td>\n",
       "      <td>95.000000</td>\n",
       "      <td>208.000000</td>\n",
       "    </tr>\n",
       "    <tr>\n",
       "      <th>21871</th>\n",
       "      <td>2021-06-30 07:00:00</td>\n",
       "      <td>17.000000</td>\n",
       "      <td>81.666667</td>\n",
       "      <td>155.000000</td>\n",
       "    </tr>\n",
       "  </tbody>\n",
       "</table>\n",
       "<p>21871 rows × 4 columns</p>\n",
       "</div>"
      ],
      "text/plain": [
       "                 datetime         기온         습도          풍향\n",
       "1     2019-01-01 01:00:00  -2.000000  35.000000  286.000000\n",
       "2     2019-01-01 02:00:00  -3.000000  35.000000  288.000000\n",
       "3     2019-01-01 03:00:00  -4.000000  35.000000  290.000000\n",
       "4     2019-01-01 04:00:00  -4.000000  36.666667  282.666667\n",
       "5     2019-01-01 05:00:00  -4.000000  38.333333  275.333333\n",
       "...                   ...        ...        ...         ...\n",
       "21867 2021-06-30 03:00:00  19.000000  95.000000  202.000000\n",
       "21868 2021-06-30 04:00:00  19.333333  95.000000  204.000000\n",
       "21869 2021-06-30 05:00:00  19.666667  95.000000  206.000000\n",
       "21870 2021-06-30 06:00:00  20.000000  95.000000  208.000000\n",
       "21871 2021-06-30 07:00:00  17.000000  81.666667  155.000000\n",
       "\n",
       "[21871 rows x 4 columns]"
      ]
     },
     "execution_count": 85,
     "metadata": {},
     "output_type": "execute_result"
    }
   ],
   "source": [
    "old_weather = old_weather.loc[(old_weather['datetime'] < '2021-06-30 08:00:00') & (old_weather['datetime'] >'2019')]\n",
    "old_weather"
   ]
  },
  {
   "cell_type": "code",
   "execution_count": 86,
   "id": "e8118885-f4f3-4f2a-93e6-cb82ec399a1b",
   "metadata": {},
   "outputs": [],
   "source": [
    "new_2021[\"datetime\"] = pd.to_datetime(new_2021[\"datetime\"])\n",
    "new_2021.rename(columns = {\"temperature\" : \"기온\", \"humidity\" : \"습도\", \"windspeed\" : \"풍속\", \"winddirection\" : \"풍향\"}, inplace = True)\n",
    "new_2021 = new_2021[['datetime', '기온', '습도', '풍향']]\n",
    "new_2021 = new_2021.loc[new_2021['datetime'] < '2022']"
   ]
  },
  {
   "cell_type": "code",
   "execution_count": 87,
   "id": "f2890341-8c27-4219-8e60-bf199e2f4671",
   "metadata": {},
   "outputs": [
    {
     "data": {
      "text/html": [
       "<div>\n",
       "<style scoped>\n",
       "    .dataframe tbody tr th:only-of-type {\n",
       "        vertical-align: middle;\n",
       "    }\n",
       "\n",
       "    .dataframe tbody tr th {\n",
       "        vertical-align: top;\n",
       "    }\n",
       "\n",
       "    .dataframe thead th {\n",
       "        text-align: right;\n",
       "    }\n",
       "</style>\n",
       "<table border=\"1\" class=\"dataframe\">\n",
       "  <thead>\n",
       "    <tr style=\"text-align: right;\">\n",
       "      <th></th>\n",
       "      <th>datetime</th>\n",
       "      <th>기온</th>\n",
       "      <th>습도</th>\n",
       "      <th>풍향</th>\n",
       "    </tr>\n",
       "  </thead>\n",
       "  <tbody>\n",
       "    <tr>\n",
       "      <th>0</th>\n",
       "      <td>2019-01-01 01:00:00</td>\n",
       "      <td>-2.0</td>\n",
       "      <td>35.000000</td>\n",
       "      <td>286.000000</td>\n",
       "    </tr>\n",
       "    <tr>\n",
       "      <th>1</th>\n",
       "      <td>2019-01-01 02:00:00</td>\n",
       "      <td>-3.0</td>\n",
       "      <td>35.000000</td>\n",
       "      <td>288.000000</td>\n",
       "    </tr>\n",
       "    <tr>\n",
       "      <th>2</th>\n",
       "      <td>2019-01-01 03:00:00</td>\n",
       "      <td>-4.0</td>\n",
       "      <td>35.000000</td>\n",
       "      <td>290.000000</td>\n",
       "    </tr>\n",
       "    <tr>\n",
       "      <th>3</th>\n",
       "      <td>2019-01-01 04:00:00</td>\n",
       "      <td>-4.0</td>\n",
       "      <td>36.666667</td>\n",
       "      <td>282.666667</td>\n",
       "    </tr>\n",
       "    <tr>\n",
       "      <th>4</th>\n",
       "      <td>2019-01-01 05:00:00</td>\n",
       "      <td>-4.0</td>\n",
       "      <td>38.333333</td>\n",
       "      <td>275.333333</td>\n",
       "    </tr>\n",
       "    <tr>\n",
       "      <th>...</th>\n",
       "      <td>...</td>\n",
       "      <td>...</td>\n",
       "      <td>...</td>\n",
       "      <td>...</td>\n",
       "    </tr>\n",
       "    <tr>\n",
       "      <th>26298</th>\n",
       "      <td>2021-12-31 19:00:00</td>\n",
       "      <td>-2.0</td>\n",
       "      <td>20.000000</td>\n",
       "      <td>290.000000</td>\n",
       "    </tr>\n",
       "    <tr>\n",
       "      <th>26299</th>\n",
       "      <td>2021-12-31 20:00:00</td>\n",
       "      <td>-3.0</td>\n",
       "      <td>20.000000</td>\n",
       "      <td>288.000000</td>\n",
       "    </tr>\n",
       "    <tr>\n",
       "      <th>26300</th>\n",
       "      <td>2021-12-31 21:00:00</td>\n",
       "      <td>-3.0</td>\n",
       "      <td>25.000000</td>\n",
       "      <td>284.000000</td>\n",
       "    </tr>\n",
       "    <tr>\n",
       "      <th>26301</th>\n",
       "      <td>2021-12-31 22:00:00</td>\n",
       "      <td>-3.0</td>\n",
       "      <td>25.000000</td>\n",
       "      <td>282.000000</td>\n",
       "    </tr>\n",
       "    <tr>\n",
       "      <th>26302</th>\n",
       "      <td>2021-12-31 23:00:00</td>\n",
       "      <td>-3.0</td>\n",
       "      <td>30.000000</td>\n",
       "      <td>274.000000</td>\n",
       "    </tr>\n",
       "  </tbody>\n",
       "</table>\n",
       "<p>26303 rows × 4 columns</p>\n",
       "</div>"
      ],
      "text/plain": [
       "                 datetime   기온         습도          풍향\n",
       "0     2019-01-01 01:00:00 -2.0  35.000000  286.000000\n",
       "1     2019-01-01 02:00:00 -3.0  35.000000  288.000000\n",
       "2     2019-01-01 03:00:00 -4.0  35.000000  290.000000\n",
       "3     2019-01-01 04:00:00 -4.0  36.666667  282.666667\n",
       "4     2019-01-01 05:00:00 -4.0  38.333333  275.333333\n",
       "...                   ...  ...        ...         ...\n",
       "26298 2021-12-31 19:00:00 -2.0  20.000000  290.000000\n",
       "26299 2021-12-31 20:00:00 -3.0  20.000000  288.000000\n",
       "26300 2021-12-31 21:00:00 -3.0  25.000000  284.000000\n",
       "26301 2021-12-31 22:00:00 -3.0  25.000000  282.000000\n",
       "26302 2021-12-31 23:00:00 -3.0  30.000000  274.000000\n",
       "\n",
       "[26303 rows x 4 columns]"
      ]
     },
     "execution_count": 87,
     "metadata": {},
     "output_type": "execute_result"
    }
   ],
   "source": [
    "weather = pd.concat([old_weather, new_2021], axis = 0)\n",
    "weather.reset_index(drop=True, inplace = True)\n",
    "weather"
   ]
  },
  {
   "cell_type": "markdown",
   "id": "3190625d-7960-4d41-8433-db3f8a2d7d62",
   "metadata": {},
   "source": [
    "### 정리"
   ]
  },
  {
   "cell_type": "code",
   "execution_count": 88,
   "id": "3f0212c3-2a56-4f2c-abbb-289190c1b3f8",
   "metadata": {},
   "outputs": [],
   "source": [
    "weather.to_csv(\"../DATA/WEATHER_Copy1.csv\", index = False)"
   ]
  }
 ],
 "metadata": {
  "kernelspec": {
   "display_name": "Python 3 (ipykernel)",
   "language": "python",
   "name": "python3"
  },
  "language_info": {
   "codemirror_mode": {
    "name": "ipython",
    "version": 3
   },
   "file_extension": ".py",
   "mimetype": "text/x-python",
   "name": "python",
   "nbconvert_exporter": "python",
   "pygments_lexer": "ipython3",
   "version": "3.8.13"
  }
 },
 "nbformat": 4,
 "nbformat_minor": 5
}
